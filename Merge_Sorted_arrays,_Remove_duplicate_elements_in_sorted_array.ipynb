{
  "nbformat": 4,
  "nbformat_minor": 0,
  "metadata": {
    "colab": {
      "name": "Merge Sorted arrays, Remove duplicate elements in sorted array.ipynb",
      "provenance": []
    },
    "kernelspec": {
      "name": "python3",
      "display_name": "Python 3"
    }
  },
  "cells": [
    {
      "cell_type": "markdown",
      "metadata": {
        "id": "PVx9CDBk7R25",
        "colab_type": "text"
      },
      "source": [
        "# Method 1 -  concat the two arrays and pass them to a sorting algo - O(nlogn)"
      ]
    },
    {
      "cell_type": "markdown",
      "metadata": {
        "id": "4rV9yF4G8zT8",
        "colab_type": "text"
      },
      "source": [
        "# Method 2 - O(n)"
      ]
    },
    {
      "cell_type": "code",
      "metadata": {
        "id": "bt042jWU7Dhr",
        "colab_type": "code",
        "colab": {}
      },
      "source": [
        "def mergesortedarrays(a1,a2):\n",
        "  i=0\n",
        "  j=0\n",
        "  res=[]\n",
        "  while i<len(a1) and j<len(a2):\n",
        "    print('i=',i,' j=',j)\n",
        "    if a1[i]<a2[j]:\n",
        "      res.append(a1[i])\n",
        "      i+=1\n",
        "\n",
        "    else:\n",
        "      res.append(a2[j])\n",
        "      j+=1\n",
        "  \n",
        "  if i==len(a1):\n",
        "    res.extend(a2[j:])\n",
        "  if j==len(a2):\n",
        "    res.extend(a1[i:])\n",
        "\n",
        "  return res\n"
      ],
      "execution_count": null,
      "outputs": []
    },
    {
      "cell_type": "code",
      "metadata": {
        "id": "KImMQKKs-6qz",
        "colab_type": "code",
        "colab": {
          "base_uri": "https://localhost:8080/",
          "height": 168
        },
        "outputId": "82866f4d-0aa1-4a71-ac60-2a15fb296604"
      },
      "source": [
        "a = [1,3,5,7,9]\n",
        "b = [2,4,8,10,11,12,16]\n",
        "\n",
        "mergesortedarrays(a,b)"
      ],
      "execution_count": null,
      "outputs": [
        {
          "output_type": "stream",
          "text": [
            "i= 0  j= 0\n",
            "i= 1  j= 0\n",
            "i= 1  j= 1\n",
            "i= 2  j= 1\n",
            "i= 2  j= 2\n",
            "i= 3  j= 2\n",
            "i= 4  j= 2\n",
            "i= 4  j= 3\n"
          ],
          "name": "stdout"
        },
        {
          "output_type": "execute_result",
          "data": {
            "text/plain": [
              "[1, 2, 3, 4, 5, 7, 8, 9, 10, 11, 12, 16]"
            ]
          },
          "metadata": {
            "tags": []
          },
          "execution_count": 8
        }
      ]
    },
    {
      "cell_type": "code",
      "metadata": {
        "id": "x2rXyt-e_Fcd",
        "colab_type": "code",
        "colab": {}
      },
      "source": [
        ""
      ],
      "execution_count": null,
      "outputs": []
    },
    {
      "cell_type": "markdown",
      "metadata": {
        "id": "jT-0615UHOXi",
        "colab_type": "text"
      },
      "source": [
        "#Remove duplicates from sorted array"
      ]
    },
    {
      "cell_type": "markdown",
      "metadata": {
        "id": "Mqtfsm5LHlxh",
        "colab_type": "text"
      },
      "source": [
        "Like a mathematical set, it does not enforce or maintain any particular order of the elements. ... When you create a set from a list, Python has the liberty to change the order of the elements for the needs of the internal implementation it uses for a set, which is able to perform set operations efficiently."
      ]
    },
    {
      "cell_type": "code",
      "metadata": {
        "id": "PU5MSPQKHQLk",
        "colab_type": "code",
        "colab": {
          "base_uri": "https://localhost:8080/",
          "height": 34
        },
        "outputId": "56125cb4-d71c-4087-9053-63080ce2cb14"
      },
      "source": [
        "a=[1,1,2,2,3,3,4,4,4,5,5]\n",
        "b = set(a)\n",
        "print(b)"
      ],
      "execution_count": null,
      "outputs": [
        {
          "output_type": "stream",
          "text": [
            "{1, 2, 3, 4, 5}\n"
          ],
          "name": "stdout"
        }
      ]
    },
    {
      "cell_type": "code",
      "metadata": {
        "id": "vcQXtJTFHpAB",
        "colab_type": "code",
        "colab": {
          "base_uri": "https://localhost:8080/",
          "height": 34
        },
        "outputId": "448adaee-abdd-482d-85b7-25c76d798de0"
      },
      "source": [
        "temp = []\n",
        "temp.append(a[0])\n",
        "for i in range(1,len(a)):\n",
        "  if a[i]!=a[i-1]:\n",
        "    temp.append(a[i])\n",
        "\n",
        "print(temp)\n"
      ],
      "execution_count": null,
      "outputs": [
        {
          "output_type": "stream",
          "text": [
            "[1, 2, 3, 4, 5]\n"
          ],
          "name": "stdout"
        }
      ]
    },
    {
      "cell_type": "code",
      "metadata": {
        "id": "zrYHy0c2H9Mt",
        "colab_type": "code",
        "colab": {}
      },
      "source": [
        ""
      ],
      "execution_count": null,
      "outputs": []
    }
  ]
}