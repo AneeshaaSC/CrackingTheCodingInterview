{
  "nbformat": 4,
  "nbformat_minor": 0,
  "metadata": {
    "colab": {
      "name": "Max Gold bars in bag - Dynamic Programming.ipynb",
      "provenance": [],
      "collapsed_sections": []
    },
    "kernelspec": {
      "name": "python3",
      "display_name": "Python 3"
    }
  },
  "cells": [
    {
      "cell_type": "code",
      "metadata": {
        "id": "65GSHviTmbVG",
        "colab_type": "code",
        "colab": {}
      },
      "source": [
        "import numpy as np"
      ],
      "execution_count": null,
      "outputs": []
    },
    {
      "cell_type": "code",
      "metadata": {
        "id": "crcVSCY4C24M",
        "colab_type": "code",
        "colab": {}
      },
      "source": [
        "def gold(W, n, items):\n",
        "\n",
        "    value = np.zeros((W+1, n+1))\n",
        "    \n",
        "    for i in range(1, W+1):\n",
        "        for j in range(1, n+1):\n",
        "            # if item i is not part of optimal knapsack\n",
        "            value[i][j] = value[i][j-1]\n",
        "\n",
        "            if items[j-1]<=i:\n",
        "\n",
        "                # if item i is part of optimal knapsack\n",
        "                temp = value[i-items[j-1]][j-1] + items[j-1]\n",
        "\n",
        "                # max(i in knapsack, i not in knapsack)\n",
        "                value[i][j] = max(value[i][j],temp)\n",
        "\n",
        "    return int(value[W][n])"
      ],
      "execution_count": null,
      "outputs": []
    },
    {
      "cell_type": "code",
      "metadata": {
        "id": "CzBD3NiKtMvJ",
        "colab_type": "code",
        "colab": {
          "base_uri": "https://localhost:8080/",
          "height": 67
        },
        "outputId": "3c55195c-0959-4e93-da80-61812cf06f9e"
      },
      "source": [
        "if __name__ == '__main__':\n",
        "    W, n               = [int(i) for i in input().split()]\n",
        "    item_weights       = [int(i) for i in input().split()]\n",
        "    max_weight = gold(W, n, item_weights)\n",
        "    print(max_weight)"
      ],
      "execution_count": null,
      "outputs": [
        {
          "output_type": "stream",
          "text": [
            "10 3\n",
            "1 4 8\n",
            "9\n"
          ],
          "name": "stdout"
        }
      ]
    },
    {
      "cell_type": "code",
      "metadata": {
        "id": "nswzhdV9nJt7",
        "colab_type": "code",
        "colab": {
          "base_uri": "https://localhost:8080/",
          "height": 34
        },
        "outputId": "e2bfab8c-d2b0-41c0-fbfe-2c50b4b82995"
      },
      "source": [
        "gold(20,4,[5,7,12,18])"
      ],
      "execution_count": null,
      "outputs": [
        {
          "output_type": "execute_result",
          "data": {
            "text/plain": [
              "19"
            ]
          },
          "metadata": {
            "tags": []
          },
          "execution_count": 34
        }
      ]
    },
    {
      "cell_type": "code",
      "metadata": {
        "id": "LiP9fQbcP95p",
        "colab_type": "code",
        "colab": {}
      },
      "source": [
        ""
      ],
      "execution_count": null,
      "outputs": []
    }
  ]
}