{
  "nbformat": 4,
  "nbformat_minor": 0,
  "metadata": {
    "colab": {
      "name": "JPMC kthsmallest element.ipynb",
      "provenance": [],
      "collapsed_sections": []
    },
    "kernelspec": {
      "name": "python3",
      "display_name": "Python 3"
    }
  },
  "cells": [
    {
      "cell_type": "markdown",
      "metadata": {
        "id": "5_tq_J4OOh6n",
        "colab_type": "text"
      },
      "source": [
        "#Find kth smallest element"
      ]
    },
    {
      "cell_type": "code",
      "metadata": {
        "id": "ndrMoM0nN9Ju",
        "colab_type": "code",
        "colab": {}
      },
      "source": [
        "def kquicksort(seq):\n",
        "\n",
        "  if len(seq)<=1:\n",
        "    return seq\n",
        "  \n",
        "  mid = len(seq)//2\n",
        "  pivot = seq[mid]\n",
        "\n",
        "  small = []\n",
        "  equal = []\n",
        "  large = []\n",
        "\n",
        "  for x in seq:\n",
        "    if x<pivot:\n",
        "      small.append(x)\n",
        "    if x==pivot:\n",
        "      equal.append(x)\n",
        "    if x>pivot:\n",
        "      large.append(x)\n",
        "\n",
        "  return kquicksort(small)+equal+kquicksort(large)"
      ],
      "execution_count": null,
      "outputs": []
    },
    {
      "cell_type": "code",
      "metadata": {
        "id": "Yk0iPSr6PU7x",
        "colab_type": "code",
        "colab": {}
      },
      "source": [
        "def getkthelement(k,seq):\n",
        "  sortedseq = kquicksort(list(set(seq)))\n",
        "  print(sortedseq)\n",
        "  print('len of sorted sq',len(sortedseq))\n",
        "  if k>=len(sortedseq) or sortedseq[k]==0 :\n",
        "    return 'NULL'\n",
        "  else:\n",
        "    return sortedseq[k-1]"
      ],
      "execution_count": null,
      "outputs": []
    },
    {
      "cell_type": "code",
      "metadata": {
        "id": "KX4wPO8MPYoC",
        "colab_type": "code",
        "colab": {
          "base_uri": "https://localhost:8080/",
          "height": 67
        },
        "outputId": "e177e44e-aaf6-4401-85a0-ae6340f55d93"
      },
      "source": [
        "getkthelement(4,[9,3,2,7,2,5,3,8])"
      ],
      "execution_count": null,
      "outputs": [
        {
          "output_type": "stream",
          "text": [
            "[2, 3, 5, 7, 8, 9]\n",
            "len of sorted sq 6\n"
          ],
          "name": "stdout"
        },
        {
          "output_type": "execute_result",
          "data": {
            "text/plain": [
              "7"
            ]
          },
          "metadata": {
            "tags": []
          },
          "execution_count": 44
        }
      ]
    },
    {
      "cell_type": "code",
      "metadata": {
        "id": "FkEjYSOSTyzr",
        "colab_type": "code",
        "colab": {
          "base_uri": "https://localhost:8080/",
          "height": 69
        },
        "outputId": "570081f5-70ef-4fc3-99b0-65b833d75cae"
      },
      "source": [
        "getkthelement(3,[0,1,0,1,1,1,1,0,0,1])"
      ],
      "execution_count": null,
      "outputs": [
        {
          "output_type": "stream",
          "text": [
            "[0, 1]\n",
            "len of sorted sq 2\n"
          ],
          "name": "stdout"
        },
        {
          "output_type": "execute_result",
          "data": {
            "application/vnd.google.colaboratory.intrinsic": {
              "type": "string"
            },
            "text/plain": [
              "'NULL'"
            ]
          },
          "metadata": {
            "tags": []
          },
          "execution_count": 45
        }
      ]
    },
    {
      "cell_type": "code",
      "metadata": {
        "id": "BDgtnpTmVLyT",
        "colab_type": "code",
        "colab": {}
      },
      "source": [
        ""
      ],
      "execution_count": null,
      "outputs": []
    }
  ]
}