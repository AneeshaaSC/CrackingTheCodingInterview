{
  "nbformat": 4,
  "nbformat_minor": 0,
  "metadata": {
    "colab": {
      "name": "Check anagrams - dictionary approach ",
      "provenance": [],
      "collapsed_sections": []
    },
    "kernelspec": {
      "name": "python3",
      "display_name": "Python 3"
    }
  },
  "cells": [
    {
      "cell_type": "markdown",
      "metadata": {
        "id": "E2N86xonKb1W",
        "colab_type": "text"
      },
      "source": [
        "# Check for anagrams"
      ]
    },
    {
      "cell_type": "code",
      "metadata": {
        "id": "LAF3DOrGXWl_",
        "colab_type": "code",
        "colab": {}
      },
      "source": [
        "def checkanagram(s1,s2):\n",
        "  c1 = {}\n",
        "  c2 = {}\n",
        "  \n",
        "  def fillc(s):\n",
        "    t={}\n",
        "    for i in s:\n",
        "      if i in t:\n",
        "        t[i]+=1\n",
        "      else:\n",
        "        t[i]=1\n",
        "    return t\n",
        "  \n",
        "  return fillc(s1)==fillc(s2)"
      ],
      "execution_count": null,
      "outputs": []
    },
    {
      "cell_type": "code",
      "metadata": {
        "id": "tzNDiYX6dPYB",
        "colab_type": "code",
        "colab": {
          "base_uri": "https://localhost:8080/",
          "height": 34
        },
        "outputId": "501911ce-b05f-4bb7-aa7d-7b39bde52e74"
      },
      "source": [
        "checkanagram('aneeshaa','shaanee')"
      ],
      "execution_count": null,
      "outputs": [
        {
          "output_type": "execute_result",
          "data": {
            "text/plain": [
              "False"
            ]
          },
          "metadata": {
            "tags": []
          },
          "execution_count": 5
        }
      ]
    },
    {
      "cell_type": "code",
      "metadata": {
        "id": "OGdQWF9RdTR6",
        "colab_type": "code",
        "colab": {
          "base_uri": "https://localhost:8080/",
          "height": 34
        },
        "outputId": "d2f36ebf-53b3-40de-cd87-1c90198d7d7e"
      },
      "source": [
        "checkanagram('aneeshaa','ashaanee')"
      ],
      "execution_count": null,
      "outputs": [
        {
          "output_type": "execute_result",
          "data": {
            "text/plain": [
              "True"
            ]
          },
          "metadata": {
            "tags": []
          },
          "execution_count": 6
        }
      ]
    },
    {
      "cell_type": "code",
      "metadata": {
        "id": "pPqEAdzIdWp6",
        "colab_type": "code",
        "colab": {
          "base_uri": "https://localhost:8080/",
          "height": 34
        },
        "outputId": "66792d67-d4ea-4f88-eba6-56e13d075bc8"
      },
      "source": [
        "checkanagram('wrdo','wodr')"
      ],
      "execution_count": null,
      "outputs": [
        {
          "output_type": "execute_result",
          "data": {
            "text/plain": [
              "True"
            ]
          },
          "metadata": {
            "tags": []
          },
          "execution_count": 7
        }
      ]
    },
    {
      "cell_type": "code",
      "metadata": {
        "id": "S2uKRUthfDYL",
        "colab_type": "code",
        "colab": {
          "base_uri": "https://localhost:8080/",
          "height": 34
        },
        "outputId": "f7398fda-ad8e-4630-fa21-b14c7a6dc5bb"
      },
      "source": [
        "checkanagram('dog','dogg')"
      ],
      "execution_count": null,
      "outputs": [
        {
          "output_type": "execute_result",
          "data": {
            "text/plain": [
              "False"
            ]
          },
          "metadata": {
            "tags": []
          },
          "execution_count": 8
        }
      ]
    },
    {
      "cell_type": "code",
      "metadata": {
        "id": "zNnlXrCjfMjG",
        "colab_type": "code",
        "colab": {
          "base_uri": "https://localhost:8080/",
          "height": 34
        },
        "outputId": "7ee5182b-3540-4b2a-ffeb-4524dd2deef7"
      },
      "source": [
        "checkanagram('racecar','carrace')"
      ],
      "execution_count": null,
      "outputs": [
        {
          "output_type": "execute_result",
          "data": {
            "text/plain": [
              "True"
            ]
          },
          "metadata": {
            "tags": []
          },
          "execution_count": 9
        }
      ]
    },
    {
      "cell_type": "markdown",
      "metadata": {
        "id": "jqVUxihmKYXb",
        "colab_type": "text"
      },
      "source": [
        "# Check extra word in a sentence"
      ]
    },
    {
      "cell_type": "code",
      "metadata": {
        "id": "0HWApI_jfQGy",
        "colab_type": "code",
        "colab": {}
      },
      "source": [
        "def extraword(s1,s2):\n",
        "  words = {}\n",
        "  #assuming len(s1) <  len(s2) or that s2 has extra word \n",
        "  for w in s1.split(' '):\n",
        "    if w in words:\n",
        "      words[w] += 1\n",
        "    else:\n",
        "      words[w] = 1\n",
        "\n",
        "  for w in s2.split(' '):\n",
        "    if w in words:\n",
        "      words[w] += 1\n",
        "    else:\n",
        "      return w\n",
        "\n"
      ],
      "execution_count": null,
      "outputs": []
    },
    {
      "cell_type": "code",
      "metadata": {
        "id": "yKj2xoQmLX7I",
        "colab_type": "code",
        "colab": {
          "base_uri": "https://localhost:8080/",
          "height": 35
        },
        "outputId": "8703a4b5-6f66-4014-925b-4b3b94d114e8"
      },
      "source": [
        "extraword('this is a dog', 'this is a fast dog')"
      ],
      "execution_count": null,
      "outputs": [
        {
          "output_type": "execute_result",
          "data": {
            "application/vnd.google.colaboratory.intrinsic": {
              "type": "string"
            },
            "text/plain": [
              "'fast'"
            ]
          },
          "metadata": {
            "tags": []
          },
          "execution_count": 4
        }
      ]
    },
    {
      "cell_type": "code",
      "metadata": {
        "id": "T8EW3ZRZLdFw",
        "colab_type": "code",
        "colab": {
          "base_uri": "https://localhost:8080/",
          "height": 35
        },
        "outputId": "bf32512a-e583-4370-c741-04e2ff9defe6"
      },
      "source": [
        "extraword( 'answer','this answer')"
      ],
      "execution_count": null,
      "outputs": [
        {
          "output_type": "execute_result",
          "data": {
            "application/vnd.google.colaboratory.intrinsic": {
              "type": "string"
            },
            "text/plain": [
              "'this'"
            ]
          },
          "metadata": {
            "tags": []
          },
          "execution_count": 6
        }
      ]
    },
    {
      "cell_type": "markdown",
      "metadata": {
        "id": "oNCbei5cLx0d",
        "colab_type": "text"
      },
      "source": [
        "# fizz buzz problem"
      ]
    },
    {
      "cell_type": "code",
      "metadata": {
        "id": "2FjIXk5qLkNv",
        "colab_type": "code",
        "colab": {}
      },
      "source": [
        "def fizzbuzz(n):\n",
        "  ans = []\n",
        "\n",
        "  for i in range(1,n+1):\n",
        "\n",
        "    if i%3==0 and i%5==0:\n",
        "      ans.append('FizzBuzz')\n",
        "    elif i%3==0:\n",
        "      ans.append('Fizz')\n",
        "    elif i%5==0:\n",
        "      ans.append('Buzz')\n",
        "\n",
        "\n",
        "  return ans"
      ],
      "execution_count": null,
      "outputs": []
    },
    {
      "cell_type": "code",
      "metadata": {
        "id": "jX10GzlwMwyH",
        "colab_type": "code",
        "colab": {
          "base_uri": "https://localhost:8080/",
          "height": 34
        },
        "outputId": "f5291123-af13-4532-87ca-1c668954f869"
      },
      "source": [
        "fizzbuzz(8)"
      ],
      "execution_count": null,
      "outputs": [
        {
          "output_type": "execute_result",
          "data": {
            "text/plain": [
              "['Fizz', 'Buzz', 'Fizz']"
            ]
          },
          "metadata": {
            "tags": []
          },
          "execution_count": 10
        }
      ]
    },
    {
      "cell_type": "code",
      "metadata": {
        "id": "Z788_ElYMyjD",
        "colab_type": "code",
        "colab": {}
      },
      "source": [
        ""
      ],
      "execution_count": null,
      "outputs": []
    }
  ]
}