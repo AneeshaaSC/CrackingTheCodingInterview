{
  "nbformat": 4,
  "nbformat_minor": 0,
  "metadata": {
    "colab": {
      "name": "Discrete Knapsack without Repetitions - Dynamic Programming.ipynb",
      "provenance": [],
      "collapsed_sections": []
    },
    "kernelspec": {
      "name": "python3",
      "display_name": "Python 3"
    }
  },
  "cells": [
    {
      "cell_type": "code",
      "metadata": {
        "id": "Rr4KtiKqHyWs",
        "colab_type": "code",
        "colab": {}
      },
      "source": [
        "import numpy as np"
      ],
      "execution_count": null,
      "outputs": []
    },
    {
      "cell_type": "code",
      "metadata": {
        "id": "Nh0K40BOj67E",
        "colab_type": "code",
        "colab": {}
      },
      "source": [
        "W=10\n",
        "n=4\n",
        "v = [0,30,14,16,9]\n",
        "weights = [0,6,3,4,2]"
      ],
      "execution_count": null,
      "outputs": []
    },
    {
      "cell_type": "code",
      "metadata": {
        "id": "2X6EJS7ykFap",
        "colab_type": "code",
        "colab": {}
      },
      "source": [
        "def knapsack(W,n,weights,v):\n",
        "\n",
        "  value = np.zeros((W+1,n+1))\n",
        "\n",
        "  for i in range(1,n+1):\n",
        "    for w in range(1,W+1):\n",
        "      \n",
        "      value[w,i] = value[w,i-1]\n",
        "\n",
        "      if weights[i]<=w:\n",
        "\n",
        "        val = value[w-weights[i],i-1] + v[i]\n",
        "\n",
        "        if value[w,i] < val:\n",
        "          value[w,i]=val\n",
        "\n",
        "  return value[W,n]\n"
      ],
      "execution_count": null,
      "outputs": []
    },
    {
      "cell_type": "code",
      "metadata": {
        "id": "tlfgfv_Ik6Y_",
        "colab_type": "code",
        "colab": {
          "base_uri": "https://localhost:8080/",
          "height": 34
        },
        "outputId": "ceeb3b5e-ee71-4ea0-ff22-73665c9ef98d"
      },
      "source": [
        "knapsack(W, n, weights, v)"
      ],
      "execution_count": null,
      "outputs": [
        {
          "output_type": "execute_result",
          "data": {
            "text/plain": [
              "46.0"
            ]
          },
          "metadata": {
            "tags": []
          },
          "execution_count": 33
        }
      ]
    },
    {
      "cell_type": "code",
      "metadata": {
        "id": "hyn0iU47lF7t",
        "colab_type": "code",
        "colab": {}
      },
      "source": [
        ""
      ],
      "execution_count": null,
      "outputs": []
    }
  ]
}