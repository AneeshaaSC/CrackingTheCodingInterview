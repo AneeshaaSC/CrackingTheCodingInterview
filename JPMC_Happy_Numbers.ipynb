{
  "nbformat": 4,
  "nbformat_minor": 0,
  "metadata": {
    "colab": {
      "name": "JPMC - Happy Numbers.ipynb",
      "provenance": [],
      "collapsed_sections": []
    },
    "kernelspec": {
      "name": "python3",
      "display_name": "Python 3"
    }
  },
  "cells": [
    {
      "cell_type": "code",
      "metadata": {
        "id": "dglnJaFxjEOO",
        "colab_type": "code",
        "colab": {}
      },
      "source": [
        "def happy(n):\n",
        "  d = []\n",
        "\n",
        "  while n not in d and n!=1:\n",
        "    d.append(n)\n",
        "    n = sum(map(lambda x: int(x)* int(x),str(n)))\n",
        "    #print(n)\n",
        "\n",
        "  return n==1"
      ],
      "execution_count": null,
      "outputs": []
    },
    {
      "cell_type": "code",
      "metadata": {
        "id": "iR7k50j4nUYZ",
        "colab_type": "code",
        "colab": {
          "base_uri": "https://localhost:8080/",
          "height": 168
        },
        "outputId": "9113cfed-ce30-4eed-c280-86a7aec19d95"
      },
      "source": [
        "happy(20)"
      ],
      "execution_count": null,
      "outputs": [
        {
          "output_type": "stream",
          "text": [
            "4\n",
            "16\n",
            "37\n",
            "58\n",
            "89\n",
            "145\n",
            "42\n",
            "20\n"
          ],
          "name": "stdout"
        },
        {
          "output_type": "execute_result",
          "data": {
            "text/plain": [
              "False"
            ]
          },
          "metadata": {
            "tags": []
          },
          "execution_count": 49
        }
      ]
    },
    {
      "cell_type": "code",
      "metadata": {
        "id": "fPC8e_2JnWEF",
        "colab_type": "code",
        "colab": {}
      },
      "source": [
        "def isHappy(n: int) -> bool:\n",
        "      d = [n]\n",
        "    \n",
        "      while True:\n",
        "        n = sum(map(lambda x: int(x)* int(x),str(n)))\n",
        "        #print(s)\n",
        "        if n==1:\n",
        "          return True\n",
        "        elif n in d:\n",
        "          return False\n",
        "        else:\n",
        "          d.append(n)        "
      ],
      "execution_count": null,
      "outputs": []
    },
    {
      "cell_type": "code",
      "metadata": {
        "id": "Uci-3qbKUQqG",
        "colab_type": "code",
        "colab": {
          "base_uri": "https://localhost:8080/",
          "height": 34
        },
        "outputId": "98a22b93-4890-4d3a-a18b-5e53d7920952"
      },
      "source": [
        "isHappy(19)"
      ],
      "execution_count": null,
      "outputs": [
        {
          "output_type": "execute_result",
          "data": {
            "text/plain": [
              "True"
            ]
          },
          "metadata": {
            "tags": []
          },
          "execution_count": 54
        }
      ]
    },
    {
      "cell_type": "code",
      "metadata": {
        "id": "n5LMpky8UR8H",
        "colab_type": "code",
        "colab": {}
      },
      "source": [
        ""
      ],
      "execution_count": null,
      "outputs": []
    }
  ]
}