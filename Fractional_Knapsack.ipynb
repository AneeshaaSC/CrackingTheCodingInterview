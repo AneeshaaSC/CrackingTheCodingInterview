{
  "nbformat": 4,
  "nbformat_minor": 0,
  "metadata": {
    "colab": {
      "name": "Fractional Knapsack.ipynb",
      "provenance": []
    },
    "kernelspec": {
      "name": "python3",
      "display_name": "Python 3"
    }
  },
  "cells": [
    {
      "cell_type": "code",
      "metadata": {
        "id": "54lsWsq9jkuz",
        "colab_type": "code",
        "colab": {}
      },
      "source": [
        "def knapsack(W,itemtuples):\n",
        "\n",
        "  n = len(itemtuples)\n",
        "  V=0\n",
        "\n",
        "  itemvals = [a/b for a,b in itemtuples]\n",
        "  #print('itemvals ini = ',itemvals)\n",
        "\n",
        "  while W > 0:\n",
        "    if W==0:\n",
        "      return V\n",
        "\n",
        "    maxvidx = itemvals.index(max(itemvals))\n",
        "    #print('max index = ',maxvidx)\n",
        "\n",
        "    v,w = itemtuples[maxvidx]\n",
        "    #print('weight and value =  ',w,v)\n",
        "\n",
        "    a = min(w,W)\n",
        "\n",
        "    V += a*itemvals[maxvidx]\n",
        "    #print('value now = ',V)\n",
        "    w -= a\n",
        "\n",
        "    W -= a\n",
        "\n",
        "    if w==0:\n",
        "      itemtuples.pop(maxvidx)\n",
        "      itemvals.pop(maxvidx)\n",
        "\n",
        "    else:\n",
        "      itemtuples[maxvidx][1] = w\n",
        "      itemvals[maxvidx] = itemtuples[maxvidx][1]/itemtuples[maxvidx][0]\n",
        "\n",
        "  return V\n"
      ],
      "execution_count": null,
      "outputs": []
    },
    {
      "cell_type": "code",
      "metadata": {
        "id": "m5jJCIUB98Ne",
        "colab_type": "code",
        "colab": {
          "base_uri": "https://localhost:8080/",
          "height": 134
        },
        "outputId": "3daa1754-7836-4417-d664-a5e1b2f35d1f"
      },
      "source": [
        "if __name__ == '__main__':\n",
        "\n",
        "    n,W = map(int,input().split())\n",
        "\n",
        "    itemtuples = list(list(map(int,input().split())) for r in range(n))\n",
        "    #print(itemtuples)\n",
        "\n",
        "    print(knapsack(W,itemtuples))\n",
        "    \n"
      ],
      "execution_count": null,
      "outputs": [
        {
          "output_type": "stream",
          "text": [
            "1 10\n",
            "500 30\n",
            "itemvals ini =  [16.666666666666668]\n",
            "max index =  0\n",
            "weight and value =   30 500\n",
            "value now =  166.66666666666669\n",
            "166.66666666666669\n"
          ],
          "name": "stdout"
        }
      ]
    },
    {
      "cell_type": "code",
      "metadata": {
        "id": "t85tXi6YI-pB",
        "colab_type": "code",
        "colab": {
          "base_uri": "https://localhost:8080/",
          "height": 134
        },
        "outputId": "06bd084e-f169-4ca9-84f5-fd49c39697cc"
      },
      "source": [
        "# Uses python3\n",
        "import sys\n",
        "\n",
        "def get_optimal_value(capacity, weights, values):\n",
        "  #print('W = ',capacity)\n",
        "  V=0\n",
        "\n",
        "  itemvals = [a/b for a,b in zip(values,weights)]\n",
        "  #print('itemvals ini = ',itemvals)\n",
        "\n",
        "  while capacity > 0:\n",
        "\n",
        "    if capacity==0:\n",
        "      return V\n",
        "\n",
        "    maxvidx = itemvals.index(max(itemvals))\n",
        "    #print('max index = ',maxvidx)\n",
        "\n",
        "    w = weights[maxvidx]\n",
        "    #print('weight',w)\n",
        "\n",
        "    a = min(w,capacity)\n",
        "\n",
        "    V += a*itemvals[maxvidx]\n",
        "    #print('value now = ',V)\n",
        "    w -= a\n",
        "\n",
        "    capacity -= a\n",
        "\n",
        "    if w==0:\n",
        "      weights.pop(maxvidx)\n",
        "      values.pop(maxvidx)\n",
        "      itemvals.pop(maxvidx)\n",
        "\n",
        "    else:\n",
        "      weights[maxvidx] = w\n",
        "      itemvals[maxvidx] = weights[maxvidx]/values[maxvidx]\n",
        "\n",
        "  return V\n",
        "\n",
        "if __name__ == \"__main__\":\n",
        "    \n",
        "    data = list(map(int, input().split()))\n",
        "    n, capacity = data[0:2]\n",
        "\n",
        "    values = data[2:(2 * n + 2):2]\n",
        "\n",
        "    weights = data[3:(2 * n + 2):2]\n",
        "\n",
        "    opt_value = get_optimal_value(capacity, weights, values)\n",
        "    print(\"{:.10f}\".format(opt_value))\n"
      ],
      "execution_count": null,
      "outputs": [
        {
          "output_type": "stream",
          "text": [
            "1 10 500 30\n",
            "W =  10\n",
            "itemvals ini =  [16.666666666666668]\n",
            "max index =  0\n",
            "weight 30\n",
            "value now =  166.66666666666669\n",
            "166.6666666667\n"
          ],
          "name": "stdout"
        }
      ]
    },
    {
      "cell_type": "code",
      "metadata": {
        "id": "Lqo-HsxDT4b-",
        "colab_type": "code",
        "colab": {}
      },
      "source": [
        ""
      ],
      "execution_count": null,
      "outputs": []
    }
  ]
}