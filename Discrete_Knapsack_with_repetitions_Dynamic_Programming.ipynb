{
  "nbformat": 4,
  "nbformat_minor": 0,
  "metadata": {
    "colab": {
      "name": "Discrete Knapsack with repetitions - Dynamic Programming",
      "provenance": [],
      "collapsed_sections": []
    },
    "kernelspec": {
      "name": "python3",
      "display_name": "Python 3"
    }
  },
  "cells": [
    {
      "cell_type": "markdown",
      "metadata": {
        "id": "WLmcGEvepVom",
        "colab_type": "text"
      },
      "source": [
        "#### For discrete knapsack, greedy algos don't give the right result. They choose items based on max value, but it may not give the right solution as we need to choose full item and not a fraction of it.\n",
        "\n",
        "#### Discrete Knapsack with repetitions - we assume that the items of given weights and values are available in unlimited supply i.e infinite number of item1, infinite number of item 2 etc."
      ]
    },
    {
      "cell_type": "code",
      "metadata": {
        "id": "Cq7YG6lejiLL",
        "colab_type": "code",
        "colab": {}
      },
      "source": [
        "def knapsack(W,weights,values):\n",
        "\n",
        "  v = [0]*(W+1)\n",
        "\n",
        "  for w in range(1,W+1):\n",
        "    v[w]=0\n",
        "\n",
        "    for i in range(0,len(weights)):\n",
        "\n",
        "      if weights[i] <= w:\n",
        "        val = v[w-weights[i]] + values[i]\n",
        "\n",
        "        if val>v[w]:\n",
        "          v[w]=val\n",
        "      \n",
        "  return v[W]\n"
      ],
      "execution_count": null,
      "outputs": []
    },
    {
      "cell_type": "code",
      "metadata": {
        "id": "YLjTBQlBoxDM",
        "colab_type": "code",
        "colab": {
          "base_uri": "https://localhost:8080/",
          "height": 34
        },
        "outputId": "df4f8e10-e5cc-4ffc-927d-eff0fc939982"
      },
      "source": [
        "knapsack(10,[6,3,4,2],[30,14,16,9])"
      ],
      "execution_count": null,
      "outputs": [
        {
          "output_type": "execute_result",
          "data": {
            "text/plain": [
              "48"
            ]
          },
          "metadata": {
            "tags": []
          },
          "execution_count": 21
        }
      ]
    },
    {
      "cell_type": "code",
      "metadata": {
        "id": "zuEWNcGUo5Rp",
        "colab_type": "code",
        "colab": {}
      },
      "source": [
        ""
      ],
      "execution_count": null,
      "outputs": []
    }
  ]
}