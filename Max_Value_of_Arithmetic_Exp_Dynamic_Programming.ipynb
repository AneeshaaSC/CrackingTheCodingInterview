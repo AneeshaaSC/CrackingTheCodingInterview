{
  "nbformat": 4,
  "nbformat_minor": 0,
  "metadata": {
    "colab": {
      "name": "Max Value of Arithmetic Exp - Dynamic Programming.ipynb",
      "provenance": [],
      "collapsed_sections": []
    },
    "kernelspec": {
      "name": "python3",
      "display_name": "Python 3"
    }
  },
  "cells": [
    {
      "cell_type": "code",
      "metadata": {
        "id": "vxfjqTqdXdiL",
        "colab_type": "code",
        "colab": {}
      },
      "source": [
        "import math\n",
        "import numpy as np"
      ],
      "execution_count": null,
      "outputs": []
    },
    {
      "cell_type": "code",
      "metadata": {
        "id": "_KXXCgWb74b8",
        "colab_type": "code",
        "colab": {
          "base_uri": "https://localhost:8080/",
          "height": 34
        },
        "outputId": "433faf77-c367-42e9-ce7d-5d66dd27ac73"
      },
      "source": [
        "exp = input()"
      ],
      "execution_count": null,
      "outputs": [
        {
          "output_type": "stream",
          "text": [
            "1+5\n"
          ],
          "name": "stdout"
        }
      ]
    },
    {
      "cell_type": "code",
      "metadata": {
        "id": "UDQtcbXKVd7t",
        "colab_type": "code",
        "colab": {
          "base_uri": "https://localhost:8080/",
          "height": 34
        },
        "outputId": "687d990a-893a-4765-e9e1-32a924e9c934"
      },
      "source": [
        "len(exp)"
      ],
      "execution_count": null,
      "outputs": [
        {
          "output_type": "execute_result",
          "data": {
            "text/plain": [
              "3"
            ]
          },
          "metadata": {
            "tags": []
          },
          "execution_count": 145
        }
      ]
    },
    {
      "cell_type": "code",
      "metadata": {
        "id": "stBNfb4VVql5",
        "colab_type": "code",
        "colab": {}
      },
      "source": [
        "d=[]\n",
        "op=[]\n",
        "for i in range(0,len(exp)):\n",
        "  if i%2==0:\n",
        "    d.append(exp[i])\n",
        "  else:\n",
        "    op.append(exp[i])\n",
        "n = int((len(exp) -1 )//2)"
      ],
      "execution_count": null,
      "outputs": []
    },
    {
      "cell_type": "code",
      "metadata": {
        "id": "Wel1Y9yaXbfl",
        "colab_type": "code",
        "colab": {
          "base_uri": "https://localhost:8080/",
          "height": 34
        },
        "outputId": "a5f3a87e-5ec8-4c38-f01c-fcf9685c87f6"
      },
      "source": [
        "d"
      ],
      "execution_count": null,
      "outputs": [
        {
          "output_type": "execute_result",
          "data": {
            "text/plain": [
              "['1', '5']"
            ]
          },
          "metadata": {
            "tags": []
          },
          "execution_count": 147
        }
      ]
    },
    {
      "cell_type": "code",
      "metadata": {
        "id": "O3nF39dLXcay",
        "colab_type": "code",
        "colab": {
          "base_uri": "https://localhost:8080/",
          "height": 34
        },
        "outputId": "9592a334-c950-4cd8-f653-6d0c9941f329"
      },
      "source": [
        "op"
      ],
      "execution_count": null,
      "outputs": [
        {
          "output_type": "execute_result",
          "data": {
            "text/plain": [
              "['+']"
            ]
          },
          "metadata": {
            "tags": []
          },
          "execution_count": 148
        }
      ]
    },
    {
      "cell_type": "code",
      "metadata": {
        "id": "ZjtfbnVPwppo",
        "colab_type": "code",
        "colab": {
          "base_uri": "https://localhost:8080/",
          "height": 34
        },
        "outputId": "c618fd76-d475-4a07-ef82-5d84a9a21a62"
      },
      "source": [
        "n"
      ],
      "execution_count": null,
      "outputs": [
        {
          "output_type": "execute_result",
          "data": {
            "text/plain": [
              "1"
            ]
          },
          "metadata": {
            "tags": []
          },
          "execution_count": 149
        }
      ]
    },
    {
      "cell_type": "code",
      "metadata": {
        "id": "QzNpRc7rzayg",
        "colab_type": "code",
        "colab": {}
      },
      "source": [
        "m = np.zeros((n+1,n+1))\n",
        "M = np.zeros((n+1,n+1))"
      ],
      "execution_count": null,
      "outputs": []
    },
    {
      "cell_type": "code",
      "metadata": {
        "id": "58lq3xXa1D8b",
        "colab_type": "code",
        "colab": {}
      },
      "source": [
        "def conv(n1,op,n2):\n",
        "  if op=='+':\n",
        "    return n1+n2\n",
        "  elif op=='-':\n",
        "    return n1-n2\n",
        "  elif op=='*':\n",
        "    return n1*n2\n",
        "  else:\n",
        "    return n1/n2\n"
      ],
      "execution_count": null,
      "outputs": []
    },
    {
      "cell_type": "code",
      "metadata": {
        "id": "ifXocChhfL9Q",
        "colab_type": "code",
        "colab": {}
      },
      "source": [
        "def minmax(i,j):\n",
        "  mini = math.inf\n",
        "  maxi = -math.inf\n",
        "  for k in range(i,j):\n",
        "    a = conv(M[i,k],op[k],M[k+1,j])\n",
        "    b = conv(M[i,k],op[k],m[k+1,j])\n",
        "    c = conv(m[i,k],op[k],m[k+1,j])\n",
        "    d = conv(m[i,k],op[k],M[k+1,j])\n",
        "\n",
        "    mini = min(mini,a,b,c,d)\n",
        "    maxi = max(maxi,a,b,c,d)\n",
        "\n",
        "  return mini,maxi\n"
      ],
      "execution_count": null,
      "outputs": []
    },
    {
      "cell_type": "code",
      "metadata": {
        "id": "ke9APV-dxl2z",
        "colab_type": "code",
        "colab": {}
      },
      "source": [
        "def parenthesis(d,op,n):\n",
        "\n",
        "  for i in range(0,n+1):\n",
        "    m[i,i] = d[i]\n",
        "    M[i,i] = d[i]\n",
        "\n",
        "  for s in range(1,n+1):\n",
        "    for i in range(0,n-s+1):\n",
        "      \n",
        "      j = i+s\n",
        "\n",
        "      m[i,j],M[i,j] = minmax(i,j)\n",
        "\n",
        "  return int(M[0,n])\n"
      ],
      "execution_count": null,
      "outputs": []
    },
    {
      "cell_type": "code",
      "metadata": {
        "id": "nmevjz-syWfC",
        "colab_type": "code",
        "colab": {
          "base_uri": "https://localhost:8080/",
          "height": 34
        },
        "outputId": "fc1eabc8-02c0-47ab-95da-a697e83d1579"
      },
      "source": [
        "parenthesis(d,op,n)"
      ],
      "execution_count": null,
      "outputs": [
        {
          "output_type": "execute_result",
          "data": {
            "text/plain": [
              "6"
            ]
          },
          "metadata": {
            "tags": []
          },
          "execution_count": 157
        }
      ]
    },
    {
      "cell_type": "code",
      "metadata": {
        "id": "hD0VXATGy63s",
        "colab_type": "code",
        "colab": {
          "base_uri": "https://localhost:8080/",
          "height": 50
        },
        "outputId": "c473675c-df90-42f7-ad6a-4bf5eac4fc7f"
      },
      "source": [
        "M"
      ],
      "execution_count": null,
      "outputs": [
        {
          "output_type": "execute_result",
          "data": {
            "text/plain": [
              "array([[1., 6.],\n",
              "       [0., 5.]])"
            ]
          },
          "metadata": {
            "tags": []
          },
          "execution_count": 155
        }
      ]
    },
    {
      "cell_type": "code",
      "metadata": {
        "id": "4Cd6p1Z8z6bB",
        "colab_type": "code",
        "colab": {
          "base_uri": "https://localhost:8080/",
          "height": 118
        },
        "outputId": "3ad99ffc-fd2b-4a8a-c017-2ebf4cf36171"
      },
      "source": [
        "m"
      ],
      "execution_count": null,
      "outputs": [
        {
          "output_type": "execute_result",
          "data": {
            "text/plain": [
              "array([[   5.,   -3.,  -10.,  -55.,  -63.,  -94.],\n",
              "       [   0.,    8.,   15.,   36.,  -60., -195.],\n",
              "       [   0.,    0.,    7.,   28.,  -28.,  -91.],\n",
              "       [   0.,    0.,    0.,    4.,   -4.,  -13.],\n",
              "       [   0.,    0.,    0.,    0.,    8.,   17.],\n",
              "       [   0.,    0.,    0.,    0.,    0.,    9.]])"
            ]
          },
          "metadata": {
            "tags": []
          },
          "execution_count": 139
        }
      ]
    },
    {
      "cell_type": "code",
      "metadata": {
        "id": "XpihV4nRClT8",
        "colab_type": "code",
        "colab": {}
      },
      "source": [
        ""
      ],
      "execution_count": null,
      "outputs": []
    }
  ]
}