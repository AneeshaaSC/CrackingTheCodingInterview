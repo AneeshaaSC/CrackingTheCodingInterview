{
  "nbformat": 4,
  "nbformat_minor": 0,
  "metadata": {
    "colab": {
      "name": "JPMC insert * or - in string.ipynb",
      "provenance": [],
      "collapsed_sections": []
    },
    "kernelspec": {
      "name": "python3",
      "display_name": "Python 3"
    }
  },
  "cells": [
    {
      "cell_type": "code",
      "metadata": {
        "id": "SIpxekfeaEt2",
        "colab_type": "code",
        "colab": {}
      },
      "source": [
        "def modistr(s):\n",
        "  news = []\n",
        "  for i in range(0,len(s)-1):\n",
        "    news.append(s[i])\n",
        "    if int(s[i])%2==0 and int(s[i+1])%2==0:\n",
        "      news.append('*')\n",
        "    \n",
        "    elif int(s[i])%2!=0 and int(s[i+1])%2!=0:\n",
        "      news.append('-')\n",
        "  news.append(s[-1])\n",
        "  return ''.join(news)\n"
      ],
      "execution_count": null,
      "outputs": []
    },
    {
      "cell_type": "code",
      "metadata": {
        "id": "dB7nxMXNav75",
        "colab_type": "code",
        "colab": {
          "base_uri": "https://localhost:8080/",
          "height": 35
        },
        "outputId": "6d5ef967-c024-4176-eeb8-fc1c250b2839"
      },
      "source": [
        "modistr('21462675756')"
      ],
      "execution_count": null,
      "outputs": [
        {
          "output_type": "execute_result",
          "data": {
            "application/vnd.google.colaboratory.intrinsic": {
              "type": "string"
            },
            "text/plain": [
              "'214*6*2*67-5-7-56'"
            ]
          },
          "metadata": {
            "tags": []
          },
          "execution_count": 9
        }
      ]
    },
    {
      "cell_type": "code",
      "metadata": {
        "id": "owbaYvfga2w5",
        "colab_type": "code",
        "colab": {
          "base_uri": "https://localhost:8080/",
          "height": 35
        },
        "outputId": "de50015d-336c-4b18-ca70-0ca251667354"
      },
      "source": [
        "modistr('98676555533')"
      ],
      "execution_count": null,
      "outputs": [
        {
          "output_type": "execute_result",
          "data": {
            "application/vnd.google.colaboratory.intrinsic": {
              "type": "string"
            },
            "text/plain": [
              "'98*6765-5-5-5-3-3'"
            ]
          },
          "metadata": {
            "tags": []
          },
          "execution_count": 10
        }
      ]
    },
    {
      "cell_type": "code",
      "metadata": {
        "id": "S4IWJwD3bP-3",
        "colab_type": "code",
        "colab": {}
      },
      "source": [
        ""
      ],
      "execution_count": null,
      "outputs": []
    }
  ]
}