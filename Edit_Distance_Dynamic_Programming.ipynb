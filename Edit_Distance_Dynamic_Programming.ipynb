{
  "nbformat": 4,
  "nbformat_minor": 0,
  "metadata": {
    "colab": {
      "name": "Edit Distance - Dynamic Programming.ipynb",
      "provenance": [],
      "collapsed_sections": []
    },
    "kernelspec": {
      "name": "python3",
      "display_name": "Python 3"
    }
  },
  "cells": [
    {
      "cell_type": "code",
      "metadata": {
        "id": "FZny7_rA32pw",
        "colab_type": "code",
        "colab": {}
      },
      "source": [
        "import numpy as np"
      ],
      "execution_count": null,
      "outputs": []
    },
    {
      "cell_type": "code",
      "metadata": {
        "id": "_pWn4FWgztac",
        "colab_type": "code",
        "colab": {}
      },
      "source": [
        "def editdistance(a,b):\n",
        "  m = len(a)+1\n",
        "  n = len(b)+1\n",
        "  d = np.zeros((m,n))\n",
        "\n",
        "  for i in range(0,m):\n",
        "    d[i][0] = i\n",
        "\n",
        "  for j in range(0,n):\n",
        "    d[0][j] = j\n",
        "\n",
        "  for i in range(1,m):\n",
        "    for j in range(1,n):\n",
        "      insert = d[i][j-1]+1\n",
        "      delete = d[i-1][j]+1\n",
        "      match = d[i-1][j-1]\n",
        "      mismatch = d[i-1][j-1]+1\n",
        "\n",
        "      if a[i-1]==b[j-1]:\n",
        "        d[i][j] = min(insert,delete,match)\n",
        "\n",
        "      if a[i-1]!=b[j-1]:\n",
        "        d[i][j] = min(insert,delete,mismatch)\n",
        "\n",
        "  return (int(d[m-1][n-1]))\n",
        "\n",
        "\n",
        "  \n"
      ],
      "execution_count": null,
      "outputs": []
    },
    {
      "cell_type": "code",
      "metadata": {
        "id": "QICZgf7nt1-T",
        "colab_type": "code",
        "colab": {
          "base_uri": "https://localhost:8080/",
          "height": 34
        },
        "outputId": "80ee4dae-a570-42a7-b436-2ad109b050f9"
      },
      "source": [
        "editdistance('editing','distance')"
      ],
      "execution_count": null,
      "outputs": [
        {
          "output_type": "execute_result",
          "data": {
            "text/plain": [
              "5"
            ]
          },
          "metadata": {
            "tags": []
          },
          "execution_count": 16
        }
      ]
    },
    {
      "cell_type": "code",
      "metadata": {
        "id": "KoX8DQ5Wt-p_",
        "colab_type": "code",
        "colab": {
          "base_uri": "https://localhost:8080/",
          "height": 34
        },
        "outputId": "20c9b5db-b3e6-4c7c-8b0f-a09fc92d3b42"
      },
      "source": [
        "editdistance('short','ports')"
      ],
      "execution_count": null,
      "outputs": [
        {
          "output_type": "execute_result",
          "data": {
            "text/plain": [
              "3"
            ]
          },
          "metadata": {
            "tags": []
          },
          "execution_count": 17
        }
      ]
    },
    {
      "cell_type": "code",
      "metadata": {
        "id": "enncuRXrup67",
        "colab_type": "code",
        "colab": {
          "base_uri": "https://localhost:8080/",
          "height": 34
        },
        "outputId": "499ec472-fbcf-41f2-f658-68d7becbebc3"
      },
      "source": [
        "editdistance('ab','ab')"
      ],
      "execution_count": null,
      "outputs": [
        {
          "output_type": "execute_result",
          "data": {
            "text/plain": [
              "0"
            ]
          },
          "metadata": {
            "tags": []
          },
          "execution_count": 18
        }
      ]
    },
    {
      "cell_type": "code",
      "metadata": {
        "id": "2HJkCENYvSc3",
        "colab_type": "code",
        "colab": {
          "base_uri": "https://localhost:8080/",
          "height": 67
        },
        "outputId": "b77793ca-7447-4058-fc54-d4b06ecb3740"
      },
      "source": [
        "if __name__ == \"__main__\":\n",
        "    print(editdistance(input(), input()))"
      ],
      "execution_count": null,
      "outputs": [
        {
          "output_type": "stream",
          "text": [
            "aneeshaa\n",
            "akshay\n",
            "4\n"
          ],
          "name": "stdout"
        }
      ]
    },
    {
      "cell_type": "code",
      "metadata": {
        "id": "bWjn_EYpvh50",
        "colab_type": "code",
        "colab": {}
      },
      "source": [
        ""
      ],
      "execution_count": null,
      "outputs": []
    }
  ]
}