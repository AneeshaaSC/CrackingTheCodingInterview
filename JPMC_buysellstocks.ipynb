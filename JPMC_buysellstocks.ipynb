{
  "nbformat": 4,
  "nbformat_minor": 0,
  "metadata": {
    "colab": {
      "name": "JPMC buysellstocks.ipynb",
      "provenance": [],
      "collapsed_sections": []
    },
    "kernelspec": {
      "name": "python3",
      "display_name": "Python 3"
    }
  },
  "cells": [
    {
      "cell_type": "code",
      "metadata": {
        "id": "xQnNKM5PFtWr",
        "colab_type": "code",
        "colab": {}
      },
      "source": [
        "a = [310,315,275,295,260,270,290,230,255,250]"
      ],
      "execution_count": null,
      "outputs": []
    },
    {
      "cell_type": "code",
      "metadata": {
        "id": "BqvQeR57F32F",
        "colab_type": "code",
        "colab": {}
      },
      "source": [
        "# o(N**2)\n",
        "\n",
        "\n",
        "def buysell(a):\n",
        "  maxprofit=0\n",
        "  for i in range(len(a)-1):\n",
        "    for j in range(i+1, len(a)):\n",
        "      if a[j]-a[i] > maxprofit:\n",
        "        maxprofit = a[j]-a[i]\n",
        "\n",
        "  return maxprofit"
      ],
      "execution_count": null,
      "outputs": []
    },
    {
      "cell_type": "code",
      "metadata": {
        "id": "THuDs8mMGp04",
        "colab_type": "code",
        "colab": {
          "base_uri": "https://localhost:8080/",
          "height": 34
        },
        "outputId": "df758745-6093-453f-a2dd-7434a2e813bd"
      },
      "source": [
        "buysell(a)"
      ],
      "execution_count": null,
      "outputs": [
        {
          "output_type": "execute_result",
          "data": {
            "text/plain": [
              "30"
            ]
          },
          "metadata": {
            "tags": []
          },
          "execution_count": 3
        }
      ]
    },
    {
      "cell_type": "code",
      "metadata": {
        "id": "oTkYXwBdGqy8",
        "colab_type": "code",
        "colab": {}
      },
      "source": [
        "def buysell(a):\n",
        "  small = a[0]\n",
        "  maxprof = 0\n",
        "  for i in range(1,len(a)):\n",
        "\n",
        "    small = min(small,a[i])\n",
        "\n",
        "    maxprof = max(maxprof,a[i]-small)\n",
        "\n",
        "  return maxprof\n"
      ],
      "execution_count": null,
      "outputs": []
    },
    {
      "cell_type": "code",
      "metadata": {
        "id": "qx0EZY7nHuxb",
        "colab_type": "code",
        "colab": {
          "base_uri": "https://localhost:8080/",
          "height": 34
        },
        "outputId": "ace8f0f9-47f9-4410-8c37-6385c6ddb65c"
      },
      "source": [
        "buysell(a)"
      ],
      "execution_count": null,
      "outputs": [
        {
          "output_type": "execute_result",
          "data": {
            "text/plain": [
              "30"
            ]
          },
          "metadata": {
            "tags": []
          },
          "execution_count": 9
        }
      ]
    },
    {
      "cell_type": "code",
      "metadata": {
        "id": "W6WInar5Hv3A",
        "colab_type": "code",
        "colab": {}
      },
      "source": [
        ""
      ],
      "execution_count": null,
      "outputs": []
    }
  ]
}