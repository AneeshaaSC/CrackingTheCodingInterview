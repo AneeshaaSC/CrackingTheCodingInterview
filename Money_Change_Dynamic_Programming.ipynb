{
  "nbformat": 4,
  "nbformat_minor": 0,
  "metadata": {
    "colab": {
      "name": "Money Change - Dynamic Programming.ipynb",
      "provenance": [],
      "collapsed_sections": []
    },
    "kernelspec": {
      "name": "python3",
      "display_name": "Python 3"
    }
  },
  "cells": [
    {
      "cell_type": "code",
      "metadata": {
        "id": "6_LzIBKNVPZ4",
        "colab_type": "code",
        "colab": {}
      },
      "source": [
        "import math"
      ],
      "execution_count": null,
      "outputs": []
    },
    {
      "cell_type": "code",
      "metadata": {
        "id": "nz03H41zabPR",
        "colab_type": "code",
        "colab": {}
      },
      "source": [
        "def moneychange(money,coins):\n",
        "\n",
        "  minnumcoins = [0]*(money+1)\n",
        "\n",
        "  for i in range(1,money+1):\n",
        "    minnumcoins[i] = math.inf\n",
        "\n",
        "    for j in coins:\n",
        "\n",
        "      if i >= j:\n",
        "        numcoins = minnumcoins[i-j]+1\n",
        "\n",
        "        minnumcoins[i] = min(minnumcoins[i],numcoins)\n",
        "\n",
        "\n",
        "  return minnumcoins[money]\n"
      ],
      "execution_count": null,
      "outputs": []
    },
    {
      "cell_type": "code",
      "metadata": {
        "id": "qp_kX_wSdhfk",
        "colab_type": "code",
        "colab": {
          "base_uri": "https://localhost:8080/",
          "height": 67
        },
        "outputId": "355dada8-9d5d-4f95-eedf-c9639378ac33"
      },
      "source": [
        "if __name__ == '__main__':\n",
        "  money = int(input())\n",
        "  coins = list(map(int, input().split()))\n",
        "  \n",
        "  print(moneychange(money,coins))"
      ],
      "execution_count": null,
      "outputs": [
        {
          "output_type": "stream",
          "text": [
            "11\n",
            "1 2 5\n",
            "3\n"
          ],
          "name": "stdout"
        }
      ]
    },
    {
      "cell_type": "code",
      "metadata": {
        "id": "FtwrOi7KgEbq",
        "colab_type": "code",
        "colab": {
          "base_uri": "https://localhost:8080/",
          "height": 34
        },
        "outputId": "cc86ab7b-947f-4b68-a52a-9b041bcb8d2a"
      },
      "source": [
        "coinChange([1,2,5],11)"
      ],
      "execution_count": null,
      "outputs": [
        {
          "output_type": "execute_result",
          "data": {
            "text/plain": [
              "3"
            ]
          },
          "metadata": {
            "tags": []
          },
          "execution_count": 11
        }
      ]
    },
    {
      "cell_type": "code",
      "metadata": {
        "id": "KRIerK6PgHAA",
        "colab_type": "code",
        "colab": {}
      },
      "source": [
        ""
      ],
      "execution_count": null,
      "outputs": []
    }
  ]
}