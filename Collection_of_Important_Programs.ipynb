{
  "nbformat": 4,
  "nbformat_minor": 0,
  "metadata": {
    "colab": {
      "name": "Collection of Important Programs.ipynb",
      "provenance": [],
      "collapsed_sections": []
    },
    "kernelspec": {
      "name": "python3",
      "display_name": "Python 3"
    }
  },
  "cells": [
    {
      "cell_type": "code",
      "metadata": {
        "id": "_8dh_SNfkIEA",
        "colab_type": "code",
        "colab": {
          "base_uri": "https://localhost:8080/",
          "height": 67
        },
        "outputId": "3e5110d3-7d08-42d1-d53e-7f68d7d2d455"
      },
      "source": [
        "def largest_number(a):\n",
        "\n",
        "  res = ''\n",
        "  i=0\n",
        "  while len(a)>0:\n",
        "    if int(res+str(a[i])) >= int(str(a[i])+res):\n",
        "      res = res + a[i]\n",
        "    else:\n",
        "      res = a[i] + res\n",
        "\n",
        "    a.pop(i)\n",
        "\n",
        "  return res\n",
        "\n",
        "    \n",
        "\n",
        "  \n",
        "\n",
        "if __name__ == '__main__':\n",
        "\n",
        "    n = int(input())\n",
        "    nums = [x for x in input().split()]\n",
        "\n",
        "    print(largest_number(nums))\n",
        "    \n"
      ],
      "execution_count": null,
      "outputs": [
        {
          "output_type": "stream",
          "text": [
            "5\n",
            "9 4 6 1 9\n",
            "99461\n"
          ],
          "name": "stdout"
        }
      ]
    },
    {
      "cell_type": "code",
      "metadata": {
        "id": "U3_iSaR04Iij",
        "colab_type": "code",
        "colab": {}
      },
      "source": [
        ""
      ],
      "execution_count": null,
      "outputs": []
    },
    {
      "cell_type": "code",
      "metadata": {
        "id": "M2wh30n0yWPY",
        "colab_type": "code",
        "colab": {
          "base_uri": "https://localhost:8080/",
          "height": 67
        },
        "outputId": "6d35c0d4-3639-4311-9dea-79f4a69c7d3f"
      },
      "source": [
        "n = int(input())\n",
        "digits = [int(i) for i in input().split()]\n",
        "\n",
        "\n",
        "def check(i, maxnum):\n",
        "\n",
        "    return int(str(i)+str(maxnum))>=int(str(maxnum)+str(i))\n",
        "\n",
        "def maxsal(digits):\n",
        "    result = []\n",
        "    \n",
        "    while digits!=[]:\n",
        "        maxnum = 0\n",
        "        for i in digits:\n",
        "            \n",
        "            if check(i, maxnum):\n",
        "                maxnum = i\n",
        "        result.append(maxnum)\n",
        "        digits.remove(maxnum)\n",
        "\n",
        "    final = ''.join([str(x) for x in digits])\n",
        "\n",
        "    return final\n"
      ],
      "execution_count": null,
      "outputs": [
        {
          "output_type": "stream",
          "text": [
            "4\n",
            "23 5 3 11\n",
            "532311\n"
          ],
          "name": "stdout"
        }
      ]
    },
    {
      "cell_type": "code",
      "metadata": {
        "id": "sVhL6H18Esiv",
        "colab_type": "code",
        "colab": {
          "base_uri": "https://localhost:8080/",
          "height": 84
        },
        "outputId": "b600c978-22ed-4cc0-c969-099d797e01e5"
      },
      "source": [
        "def maxsal(digits):\n",
        "    result = []\n",
        "    \n",
        "    while digits!=[]:\n",
        "        maxnum = 0\n",
        "        for i in digits:\n",
        "            \n",
        "            if int(str(i)+str(maxnum))>=int(str(maxnum)+str(i)):\n",
        "                maxnum = i\n",
        "\n",
        "        result.append(maxnum)\n",
        "        digits.remove(maxnum)\n",
        "\n",
        "    final = ''.join([str(x) for x in result])\n",
        "\n",
        "    return final\n",
        "\n",
        "    \n",
        "\n",
        "  \n",
        "\n",
        "if __name__ == '__main__':\n",
        "\n",
        "    n = int(input())\n",
        "    nums = [x for x in input().split()]\n",
        "\n",
        "    print(maxsal(nums))"
      ],
      "execution_count": null,
      "outputs": [
        {
          "output_type": "stream",
          "text": [
            "2\n",
            "21 2\n",
            "221\n",
            "221\n"
          ],
          "name": "stdout"
        }
      ]
    },
    {
      "cell_type": "code",
      "metadata": {
        "id": "5Y9pk1XTobGk",
        "colab_type": "code",
        "colab": {
          "base_uri": "https://localhost:8080/",
          "height": 34
        },
        "outputId": "5957a516-aeca-49c6-971a-edba2122ec24"
      },
      "source": [
        "a = ['29','2','9']#\n",
        "a.sort()\n",
        "a"
      ],
      "execution_count": null,
      "outputs": [
        {
          "output_type": "execute_result",
          "data": {
            "text/plain": [
              "['2', '29', '9']"
            ]
          },
          "metadata": {
            "tags": []
          },
          "execution_count": 43
        }
      ]
    },
    {
      "cell_type": "code",
      "metadata": {
        "id": "mY1nPsuYpxY1",
        "colab_type": "code",
        "colab": {
          "base_uri": "https://localhost:8080/",
          "height": 34
        },
        "outputId": "b7c6bfcb-efb7-4202-df65-a9054e7e2d38"
      },
      "source": [
        "a = [21,2]#\n",
        "a.sort()\n",
        "a"
      ],
      "execution_count": null,
      "outputs": [
        {
          "output_type": "execute_result",
          "data": {
            "text/plain": [
              "[2, 21]"
            ]
          },
          "metadata": {
            "tags": []
          },
          "execution_count": 27
        }
      ]
    },
    {
      "cell_type": "code",
      "metadata": {
        "id": "Sv1lK6-nZYhl",
        "colab_type": "code",
        "colab": {
          "base_uri": "https://localhost:8080/",
          "height": 34
        },
        "outputId": "bf0e6887-b85e-4a9f-802a-778ab891c919"
      },
      "source": [
        "a = 1294\n",
        "b = [i for i in str(a)]\n",
        "b.sort(reverse=True)\n",
        "res = ''\n",
        "for i in b:\n",
        "  res+=i\n",
        "res"
      ],
      "execution_count": null,
      "outputs": [
        {
          "output_type": "execute_result",
          "data": {
            "text/plain": [
              "'9421'"
            ]
          },
          "metadata": {
            "tags": []
          },
          "execution_count": 15
        }
      ]
    },
    {
      "cell_type": "code",
      "metadata": {
        "id": "CoYwURH9NOIK",
        "colab_type": "code",
        "colab": {}
      },
      "source": [
        "words = ['cb','ab','ba','caa','ac']\n",
        "c = ['c','b','a']"
      ],
      "execution_count": null,
      "outputs": []
    },
    {
      "cell_type": "code",
      "metadata": {
        "id": "wjs4_pSBNIaI",
        "colab_type": "code",
        "colab": {}
      },
      "source": [
        "for i in range(0,len(words)):\n",
        "  for j in range(i+1,len(words)):\n",
        "    if words[j][0]"
      ],
      "execution_count": null,
      "outputs": []
    },
    {
      "cell_type": "markdown",
      "metadata": {
        "id": "GW7FyTnberRL",
        "colab_type": "text"
      },
      "source": [
        "#Factorial"
      ]
    },
    {
      "cell_type": "code",
      "metadata": {
        "id": "cmox-WwMeq6B",
        "colab_type": "code",
        "colab": {}
      },
      "source": [
        "def fac(n):\n",
        "  if n==1:\n",
        "    return 1\n",
        "  return n* fac(n-1)"
      ],
      "execution_count": null,
      "outputs": []
    },
    {
      "cell_type": "code",
      "metadata": {
        "id": "6r1wcBolezms",
        "colab_type": "code",
        "colab": {
          "base_uri": "https://localhost:8080/",
          "height": 34
        },
        "outputId": "6c5ef506-b15e-4f5b-8c6e-5365de7c2576"
      },
      "source": [
        "fac(5)"
      ],
      "execution_count": null,
      "outputs": [
        {
          "output_type": "execute_result",
          "data": {
            "text/plain": [
              "120"
            ]
          },
          "metadata": {
            "tags": []
          },
          "execution_count": 3
        }
      ]
    },
    {
      "cell_type": "markdown",
      "metadata": {
        "id": "LkS0dvOTg8Nc",
        "colab_type": "text"
      },
      "source": [
        "###recursive calls max depth in python - 1000"
      ]
    },
    {
      "cell_type": "code",
      "metadata": {
        "id": "M0oZreDugGdg",
        "colab_type": "code",
        "colab": {}
      },
      "source": [
        "def iterfac(n):\n",
        "  \n",
        "  f = 1\n",
        "  for i in range(1,n+1):\n",
        "    f*=i\n",
        "  return f\n"
      ],
      "execution_count": null,
      "outputs": []
    },
    {
      "cell_type": "code",
      "metadata": {
        "id": "vEUF5-LlgOD4",
        "colab_type": "code",
        "colab": {
          "base_uri": "https://localhost:8080/",
          "height": 34
        },
        "outputId": "0f3df847-459d-4eba-945d-ba8032454bae"
      },
      "source": [
        "iterfac(1)"
      ],
      "execution_count": null,
      "outputs": [
        {
          "output_type": "execute_result",
          "data": {
            "text/plain": [
              "1"
            ]
          },
          "metadata": {
            "tags": []
          },
          "execution_count": 6
        }
      ]
    },
    {
      "cell_type": "markdown",
      "metadata": {
        "id": "c_C2q_KOBzWX",
        "colab_type": "text"
      },
      "source": [
        "#Find all subsets of a set"
      ]
    },
    {
      "cell_type": "code",
      "metadata": {
        "id": "VvaseUl6B4Bt",
        "colab_type": "code",
        "colab": {}
      },
      "source": [
        "def subset(nums):\n",
        "  subs = [[]]\n",
        "  for num in nums:\n",
        "    subs += [e+[num] for e in subs]\n",
        "  return subs"
      ],
      "execution_count": null,
      "outputs": []
    },
    {
      "cell_type": "code",
      "metadata": {
        "id": "7UD4hhe6EqGJ",
        "colab_type": "code",
        "colab": {
          "base_uri": "https://localhost:8080/",
          "height": 34
        },
        "outputId": "db63515b-a23c-4da8-8481-7e271463c73f"
      },
      "source": [
        "subset([1,2,3])"
      ],
      "execution_count": null,
      "outputs": [
        {
          "output_type": "execute_result",
          "data": {
            "text/plain": [
              "[[], [1], [2], [1, 2], [3], [1, 3], [2, 3], [1, 2, 3]]"
            ]
          },
          "metadata": {
            "tags": []
          },
          "execution_count": 13
        }
      ]
    },
    {
      "cell_type": "code",
      "metadata": {
        "id": "xxrbFB8yIJJR",
        "colab_type": "code",
        "colab": {
          "base_uri": "https://localhost:8080/",
          "height": 50
        },
        "outputId": "ad868f7e-6ff1-4bb1-bc3b-2ef8c030f387"
      },
      "source": [
        "sub = [[]]\n",
        "print([[]+[1]])\n",
        "sub += [[]+[1]]\n",
        "print(sub)\n"
      ],
      "execution_count": null,
      "outputs": [
        {
          "output_type": "stream",
          "text": [
            "[[1]]\n",
            "[[], [1]]\n"
          ],
          "name": "stdout"
        }
      ]
    },
    {
      "cell_type": "code",
      "metadata": {
        "id": "-vdWYiq3IJGp",
        "colab_type": "code",
        "colab": {
          "base_uri": "https://localhost:8080/",
          "height": 34
        },
        "outputId": "300d6df9-ac68-4787-c38e-0dcec85132ce"
      },
      "source": [
        "print([[1]+[2]])"
      ],
      "execution_count": null,
      "outputs": [
        {
          "output_type": "stream",
          "text": [
            "[[1, 2]]\n"
          ],
          "name": "stdout"
        }
      ]
    },
    {
      "cell_type": "markdown",
      "metadata": {
        "id": "jXsufDVdKfPV",
        "colab_type": "text"
      },
      "source": [
        "#Check if sum of a subarray is a multiple of k"
      ]
    },
    {
      "cell_type": "code",
      "metadata": {
        "id": "v5Fxf6qKJMjp",
        "colab_type": "code",
        "colab": {}
      },
      "source": [
        "def checkSubarraySum(nums, k):\n",
        "  for i in range(2,len(nums)+1):\n",
        "    for j in range(0,len(nums)):\n",
        "      #print('nums[j] = ',nums[j])\n",
        "      #print('nums[j:j+i] = ',nums[j:j+i])\n",
        "      #print('sum(nums[j:j+i]) = ', sum(nums[j:j+i]), 'sum(nums[j:j+1])%k = ', sum(nums[j:j+1])%k)\n",
        "      \n",
        "      if (sum(nums[j:j+i])//k>1 or sum(nums[j:j+1])%k==0):\n",
        "        return True"
      ],
      "execution_count": null,
      "outputs": []
    },
    {
      "cell_type": "code",
      "metadata": {
        "id": "EDRwsCeyJh0c",
        "colab_type": "code",
        "colab": {
          "base_uri": "https://localhost:8080/",
          "height": 34
        },
        "outputId": "3f5d5843-ec75-4f58-a80f-cff7ce9cb386"
      },
      "source": [
        "checkSubarraySum([23,2,4,6,7],6)"
      ],
      "execution_count": null,
      "outputs": [
        {
          "output_type": "execute_result",
          "data": {
            "text/plain": [
              "True"
            ]
          },
          "metadata": {
            "tags": []
          },
          "execution_count": 5
        }
      ]
    },
    {
      "cell_type": "code",
      "metadata": {
        "id": "jR8GQo5jOja-",
        "colab_type": "code",
        "colab": {}
      },
      "source": [
        "import numpy as np"
      ],
      "execution_count": null,
      "outputs": []
    },
    {
      "cell_type": "code",
      "metadata": {
        "id": "4QbbAaJqOlje",
        "colab_type": "code",
        "colab": {
          "base_uri": "https://localhost:8080/",
          "height": 34
        },
        "outputId": "11672409-27ed-4e43-90ac-6d281d70e564"
      },
      "source": [
        "l=[23,2,4,6,7]\n",
        "np.cumsum(l)"
      ],
      "execution_count": null,
      "outputs": [
        {
          "output_type": "execute_result",
          "data": {
            "text/plain": [
              "array([23, 25, 29, 35, 42])"
            ]
          },
          "metadata": {
            "tags": []
          },
          "execution_count": 7
        }
      ]
    },
    {
      "cell_type": "code",
      "metadata": {
        "id": "87-xSnnbJhug",
        "colab_type": "code",
        "colab": {}
      },
      "source": [
        "#accepted answer on leetcode\n",
        "def checkSubarraySum(self, nums, k):\n",
        "  X = np.cumsum([0] + nums) % (k or 2**31)\n",
        "  return any(x in X[i+2:] for i, x in enumerate(X))"
      ],
      "execution_count": null,
      "outputs": []
    },
    {
      "cell_type": "markdown",
      "metadata": {
        "id": "tFSzShNoozf6",
        "colab_type": "text"
      },
      "source": [
        "#Palindrome"
      ]
    },
    {
      "cell_type": "code",
      "metadata": {
        "id": "KLISgJ9rs1KU",
        "colab_type": "code",
        "colab": {}
      },
      "source": [
        "def naivepal(s):\n",
        "  start = 0\n",
        "  end = len(s)-1\n",
        "\n",
        "  while start < end:\n",
        "\n",
        "    if not s[start].isalpha():\n",
        "      start+=1\n",
        "      continue\n",
        "\n",
        "    if not s[end].isalpha():\n",
        "      end-=1\n",
        "      continue\n",
        "\n",
        "    if s[start].lower() != s[end].lower():\n",
        "      return False\n",
        "\n",
        "    start += 1\n",
        "    end -=1\n",
        "\n",
        "  return True\n",
        "\n",
        "\n",
        "    \n"
      ],
      "execution_count": null,
      "outputs": []
    },
    {
      "cell_type": "code",
      "metadata": {
        "id": "phod9qaASO4P",
        "colab_type": "code",
        "colab": {
          "base_uri": "https://localhost:8080/",
          "height": 34
        },
        "outputId": "e4348e8b-a50f-4b16-c531-c08dbd9f7edd"
      },
      "source": [
        "naivepal('Race car!')"
      ],
      "execution_count": null,
      "outputs": [
        {
          "output_type": "execute_result",
          "data": {
            "text/plain": [
              "True"
            ]
          },
          "metadata": {
            "tags": []
          },
          "execution_count": 5
        }
      ]
    },
    {
      "cell_type": "code",
      "metadata": {
        "id": "QQTVemNQR649",
        "colab_type": "code",
        "colab": {
          "base_uri": "https://localhost:8080/",
          "height": 134
        },
        "outputId": "dc1fd10e-43b0-4e46-a804-aa63668ac238"
      },
      "source": [
        "s = ' ab1$'\n",
        "for i in s:\n",
        "  print('i = ',i)\n",
        "  if i.isalpha():\n",
        "    print('alphabet')"
      ],
      "execution_count": null,
      "outputs": [
        {
          "output_type": "stream",
          "text": [
            "i =   \n",
            "i =  a\n",
            "alphabet\n",
            "i =  b\n",
            "alphabet\n",
            "i =  1\n",
            "i =  $\n"
          ],
          "name": "stdout"
        }
      ]
    },
    {
      "cell_type": "code",
      "metadata": {
        "id": "dEpC0n0eR603",
        "colab_type": "code",
        "colab": {}
      },
      "source": [
        ""
      ],
      "execution_count": null,
      "outputs": []
    },
    {
      "cell_type": "markdown",
      "metadata": {
        "id": "W-UdFJ7xs2WM",
        "colab_type": "text"
      },
      "source": [
        "#Unintuitive Palindrome"
      ]
    },
    {
      "cell_type": "code",
      "metadata": {
        "id": "iW39BenOo26d",
        "colab_type": "code",
        "colab": {}
      },
      "source": [
        "def checkpal(s):\n",
        "  s = s.replace(' ','')\n",
        "  s = re.sub('[^A-Za-z]+','',s)\n",
        "  s = s.upper()\n",
        "  \n",
        "  if s==s[::-1]:\n",
        "    return True\n",
        "  return False\n",
        "\n"
      ],
      "execution_count": null,
      "outputs": []
    },
    {
      "cell_type": "code",
      "metadata": {
        "id": "BQqmbfiFp5_e",
        "colab_type": "code",
        "colab": {
          "base_uri": "https://localhost:8080/",
          "height": 34
        },
        "outputId": "5335eb9b-0522-4348-9c04-eb47d5b97bf0"
      },
      "source": [
        "checkpal('Race car!')"
      ],
      "execution_count": null,
      "outputs": [
        {
          "output_type": "execute_result",
          "data": {
            "text/plain": [
              "True"
            ]
          },
          "metadata": {
            "tags": []
          },
          "execution_count": 9
        }
      ]
    },
    {
      "cell_type": "code",
      "metadata": {
        "id": "Pq01TlTepl23",
        "colab_type": "code",
        "colab": {}
      },
      "source": [
        "import re"
      ],
      "execution_count": null,
      "outputs": []
    },
    {
      "cell_type": "code",
      "metadata": {
        "id": "Aepcq97KpaiD",
        "colab_type": "code",
        "colab": {
          "base_uri": "https://localhost:8080/",
          "height": 34
        },
        "outputId": "8a836c09-2e3a-4941-ff5f-5c8701feb704"
      },
      "source": [
        "abc = \"askhnl#$%askdjalsdk\"\n",
        "re.sub('[^A-Za-z]+', '', abc)"
      ],
      "execution_count": null,
      "outputs": [
        {
          "output_type": "execute_result",
          "data": {
            "text/plain": [
              "'askhnlaskdjalsdk'"
            ]
          },
          "metadata": {
            "tags": []
          },
          "execution_count": 3
        }
      ]
    },
    {
      "cell_type": "markdown",
      "metadata": {
        "id": "GoaQtFUOaja5",
        "colab_type": "text"
      },
      "source": [
        "# Remove the | that occurs in between double quotes"
      ]
    },
    {
      "cell_type": "code",
      "metadata": {
        "id": "o7ZwK-i8wkJX",
        "colab_type": "code",
        "colab": {
          "base_uri": "https://localhost:8080/",
          "height": 34
        },
        "outputId": "297641a0-4623-465c-e81b-81259435d320"
      },
      "source": [
        "lst = ['#Dum|650|-32|20170310|\"Rounding|difference\"'\n",
        "        , '#Dum|2440|-3647.00|20170310|\"\"'\n",
        "        , '#Dum|2332|-22|20160422|\"Monthly|fee|chart\"'\n",
        "        , '#Dum|865|221.00|20170712|\"Invoicing|account\"']\n",
        "\n",
        "\n",
        "type(lst[0])"
      ],
      "execution_count": null,
      "outputs": [
        {
          "output_type": "execute_result",
          "data": {
            "text/plain": [
              "str"
            ]
          },
          "metadata": {
            "tags": []
          },
          "execution_count": 39
        }
      ]
    },
    {
      "cell_type": "code",
      "metadata": {
        "id": "dKXMj9_uwnEE",
        "colab_type": "code",
        "colab": {
          "base_uri": "https://localhost:8080/",
          "height": 34
        },
        "outputId": "6676979a-4351-4fbc-8f1e-eb03415d12fb"
      },
      "source": [
        "\n",
        "\n",
        "start=False\n",
        "end=False\n",
        "spec=False\n",
        "\n",
        "\n",
        "for i in range(0,len(lst[0])):\n",
        "  #print('index = ',i,'char = ',lst[0][i])\n",
        "  if lst[0][i]=='\"':\n",
        "    start=True\n",
        "  if start and lst[0][i] == '|':\n",
        "    spec= True\n",
        "    #print(i)\n",
        "    idx=i\n",
        "  if start and lst[0][i]=='\"':\n",
        "    end=True\n",
        "\n",
        "\n",
        "\n",
        "def replace_str_index(text,index):\n",
        "\n",
        "    print('%s%s%s'%(text[:index],' ',text[index+1:]))\n",
        "\n",
        "\n",
        "replace_str_index(lst[0],31)"
      ],
      "execution_count": null,
      "outputs": [
        {
          "output_type": "stream",
          "text": [
            "#Dum|650|-32|20170310|\"Rounding difference\"\n"
          ],
          "name": "stdout"
        }
      ]
    },
    {
      "cell_type": "code",
      "metadata": {
        "id": "0m1jj4yxwnAG",
        "colab_type": "code",
        "colab": {
          "base_uri": "https://localhost:8080/",
          "height": 34
        },
        "outputId": "f7372efb-05d8-427e-c337-3f4a3e481b59"
      },
      "source": [
        "lst[0][32:]"
      ],
      "execution_count": null,
      "outputs": [
        {
          "output_type": "execute_result",
          "data": {
            "text/plain": [
              "'difference\"'"
            ]
          },
          "metadata": {
            "tags": []
          },
          "execution_count": 26
        }
      ]
    },
    {
      "cell_type": "code",
      "metadata": {
        "id": "XEDkmBeKwm9X",
        "colab_type": "code",
        "colab": {
          "base_uri": "https://localhost:8080/",
          "height": 34
        },
        "outputId": "e667b3db-c310-46dc-d166-75371838b1ec"
      },
      "source": [
        "print('%s%s%s'%(lst[0][:31],' ',lst[0][31+1:]))"
      ],
      "execution_count": null,
      "outputs": [
        {
          "output_type": "stream",
          "text": [
            "#Dum|650|-32|20170310|\"Rounding difference\"\n"
          ],
          "name": "stdout"
        }
      ]
    },
    {
      "cell_type": "code",
      "metadata": {
        "id": "WWp_1iWnwmvq",
        "colab_type": "code",
        "colab": {}
      },
      "source": [
        ""
      ],
      "execution_count": null,
      "outputs": []
    },
    {
      "cell_type": "markdown",
      "metadata": {
        "id": "i4YmC_y9uOjS",
        "colab_type": "text"
      },
      "source": [
        "#Fibonacci"
      ]
    },
    {
      "cell_type": "code",
      "metadata": {
        "id": "j1sEQpNycZc8",
        "colab_type": "code",
        "colab": {}
      },
      "source": [
        "def calc_fib(n):\n",
        "  l=[0]*(n+1)\n",
        "  l[0]=0\n",
        "  l[1]=1\n",
        "  if n <=1:\n",
        "    return n\n",
        "  for i in range(2,n+1):\n",
        "    l[i]=l[i-1]+l[i-2]\n",
        "  return l[-1]\n",
        "  "
      ],
      "execution_count": null,
      "outputs": []
    },
    {
      "cell_type": "code",
      "metadata": {
        "id": "BNh3yyc8u___",
        "colab_type": "code",
        "colab": {
          "base_uri": "https://localhost:8080/",
          "height": 34
        },
        "outputId": "fa9bd384-fadb-4d8f-fae5-163c9d380095"
      },
      "source": [
        "calc_fib(10)"
      ],
      "execution_count": null,
      "outputs": [
        {
          "output_type": "execute_result",
          "data": {
            "text/plain": [
              "55"
            ]
          },
          "metadata": {
            "tags": []
          },
          "execution_count": 2
        }
      ]
    },
    {
      "cell_type": "markdown",
      "metadata": {
        "id": "6PTnc9bWv1zB",
        "colab_type": "text"
      },
      "source": [
        "#Last Digit of a Large Fibonacci Number"
      ]
    },
    {
      "cell_type": "code",
      "metadata": {
        "id": "jdrFihZAvx_U",
        "colab_type": "code",
        "colab": {
          "base_uri": "https://localhost:8080/",
          "height": 67
        },
        "outputId": "720e6587-98bc-414d-ee28-209d2d2778c7"
      },
      "source": [
        "import sys\n",
        "\n",
        "def get_fibonacci_last_digit_naive(n):\n",
        "    if n <= 1:\n",
        "        return n\n",
        "\n",
        "    previous = 0\n",
        "    current  = 1\n",
        "\n",
        "    for _ in range(n - 1):\n",
        "        previous, current = current, previous + current\n",
        "\n",
        "    return current % 10\n",
        "\n",
        "if __name__ == '__main__':\n",
        "\n",
        "    n = int(input(\"Please enter a value for n:\\n\"))\n",
        "    print(get_fibonacci_last_digit_naive(n))"
      ],
      "execution_count": null,
      "outputs": [
        {
          "output_type": "stream",
          "text": [
            "Please enter a value for n:\n",
            "331\n",
            "9\n"
          ],
          "name": "stdout"
        }
      ]
    },
    {
      "cell_type": "code",
      "metadata": {
        "id": "h8quKvplNj8p",
        "colab_type": "code",
        "colab": {
          "base_uri": "https://localhost:8080/",
          "height": 67
        },
        "outputId": "e2b0a0e5-15bb-4a05-a07a-a907e7dbcc5d"
      },
      "source": [
        "import sys\n",
        "\n",
        "def get_fibonacci_last_digit_fast(n):\n",
        "  l=[0]*(n+1)\n",
        "  l[0]=0\n",
        "  l[1]=1\n",
        "  if n <=1:\n",
        "    return n\n",
        "  for i in range(2,n+1):\n",
        "    l[i]=(l[i-1]+l[i-2])%10\n",
        "  return l[-1]\n",
        "\n",
        "if __name__ == '__main__':\n",
        "\n",
        "    n = int(input(\"Please enter a value for n:\\n\"))\n",
        "    print(get_fibonacci_last_digit_fast(n))"
      ],
      "execution_count": null,
      "outputs": [
        {
          "output_type": "stream",
          "text": [
            "Please enter a value for n:\n",
            "331\n",
            "9\n"
          ],
          "name": "stdout"
        }
      ]
    },
    {
      "cell_type": "code",
      "metadata": {
        "id": "RaNRHnyjQ0in",
        "colab_type": "code",
        "colab": {}
      },
      "source": [
        "def lasdigfib(n):\n",
        "  x = [1]\n",
        "  a = 0\n",
        "  b = 1\n",
        "  c = a + b\n",
        "  i = 1\n",
        "  while len(x)<n:\n",
        "      #print(i)\n",
        "      a = b\n",
        "      b = c\n",
        "      c = a + b\n",
        "      #print(c)\n",
        "      x.insert(0,c)\n",
        "      '''\n",
        "      if c % 2 == 0:\n",
        "          x.insert(0, c)\n",
        "          i+=1\n",
        "      '''    \n",
        "  return x#return(np.sum(x))"
      ],
      "execution_count": null,
      "outputs": []
    },
    {
      "cell_type": "code",
      "metadata": {
        "id": "-HUSSS3NzaLz",
        "colab_type": "code",
        "colab": {
          "base_uri": "https://localhost:8080/",
          "height": 34
        },
        "outputId": "d011cc38-b1c7-43c2-878f-7862fad34af0"
      },
      "source": [
        "lasdigfib(5)"
      ],
      "execution_count": null,
      "outputs": [
        {
          "output_type": "execute_result",
          "data": {
            "text/plain": [
              "[8, 5, 3, 2, 1]"
            ]
          },
          "metadata": {
            "tags": []
          },
          "execution_count": 88
        }
      ]
    },
    {
      "cell_type": "markdown",
      "metadata": {
        "id": "_E2cH3ZOPaKa",
        "colab_type": "text"
      },
      "source": [
        "#Fibonacci with Memoization"
      ]
    },
    {
      "cell_type": "code",
      "metadata": {
        "id": "6T7vP7zmPdL9",
        "colab_type": "code",
        "colab": {}
      },
      "source": [
        "fibcache={}\n",
        "#value=0\n",
        "def fibmemo(n):\n",
        "  if n in fibcache:\n",
        "    return fibcache[n]\n",
        "  \n",
        "  if n==1:\n",
        "    value=1\n",
        "\n",
        "  elif n==2:\n",
        "    value=1\n",
        "\n",
        "  elif n>2:\n",
        "    value = fibmemo(n-1)+fibmemo(n-2)\n",
        "    #print(value)\n",
        "\n",
        "  fibcache[n] = value\n",
        "  return value\n"
      ],
      "execution_count": null,
      "outputs": []
    },
    {
      "cell_type": "code",
      "metadata": {
        "id": "FruclP-yQSpG",
        "colab_type": "code",
        "colab": {
          "base_uri": "https://localhost:8080/",
          "height": 34
        },
        "outputId": "1a6724d7-b75c-48a9-8ee5-68e6fba876fe"
      },
      "source": [
        "import time \n",
        "start = time.time()\n",
        "print('Output = ',fibmemo(5), ' This took = ',time.time()-start)"
      ],
      "execution_count": null,
      "outputs": [
        {
          "output_type": "stream",
          "text": [
            "Output =  5  This took =  8.344650268554688e-05\n"
          ],
          "name": "stdout"
        }
      ]
    },
    {
      "cell_type": "code",
      "metadata": {
        "id": "_KdOvkSjQxCs",
        "colab_type": "code",
        "colab": {
          "base_uri": "https://localhost:8080/",
          "height": 185
        },
        "outputId": "2e1344c1-bec2-481a-93ac-182701148c4d"
      },
      "source": [
        "for i in range(1,11):\n",
        "  print(fibmemo(i))\n"
      ],
      "execution_count": null,
      "outputs": [
        {
          "output_type": "stream",
          "text": [
            "1\n",
            "1\n",
            "2\n",
            "3\n",
            "5\n",
            "8\n",
            "13\n",
            "21\n",
            "34\n",
            "55\n"
          ],
          "name": "stdout"
        }
      ]
    },
    {
      "cell_type": "code",
      "metadata": {
        "id": "6WRhf-ycQtcl",
        "colab_type": "code",
        "colab": {
          "base_uri": "https://localhost:8080/",
          "height": 34
        },
        "outputId": "a7a19676-3748-4c24-abf5-56c98dc9a650"
      },
      "source": [
        "\n",
        "start = time.time()\n",
        "print('Output = ',fibmemo(20), ' This took = ',time.time()-start)"
      ],
      "execution_count": null,
      "outputs": [
        {
          "output_type": "stream",
          "text": [
            "Output =  6765  This took =  7.700920104980469e-05\n"
          ],
          "name": "stdout"
        }
      ]
    },
    {
      "cell_type": "code",
      "metadata": {
        "id": "JnqaKoZ2RGoG",
        "colab_type": "code",
        "colab": {
          "base_uri": "https://localhost:8080/",
          "height": 34
        },
        "outputId": "3044dadc-f234-402f-f22e-3a8767f92747"
      },
      "source": [
        "\n",
        "\n",
        "start = time.time()\n",
        "print('Output = ',fibmemo(50), ' This took = ',time.time()-start)"
      ],
      "execution_count": null,
      "outputs": [
        {
          "output_type": "stream",
          "text": [
            "Output =  12586269025  This took =  6.008148193359375e-05\n"
          ],
          "name": "stdout"
        }
      ]
    },
    {
      "cell_type": "markdown",
      "metadata": {
        "id": "T8OD8iMtu8a7",
        "colab_type": "text"
      },
      "source": [
        "#Fibonacci with Decorators/memoization Implicit"
      ]
    },
    {
      "cell_type": "code",
      "metadata": {
        "id": "xfi8YjAx0GQC",
        "colab_type": "code",
        "colab": {}
      },
      "source": [
        "from functools import lru_cache\n",
        "\n",
        "@lru_cache(maxsize=1000)\n",
        "def fiblruc(n):\n",
        "  if n==1:\n",
        "    return 1\n",
        "  elif n==2:\n",
        "    return 1\n",
        "  elif n>2:\n",
        "    return fiblruc(n-1)+fiblruc(n-2)"
      ],
      "execution_count": null,
      "outputs": []
    },
    {
      "cell_type": "code",
      "metadata": {
        "id": "xE4S2XVd0z1b",
        "colab_type": "code",
        "colab": {
          "base_uri": "https://localhost:8080/",
          "height": 34
        },
        "outputId": "243ee469-b4d1-47cf-92e8-8e13da1dc953"
      },
      "source": [
        "\n",
        "start = time.time()\n",
        "print('Output = ',fibmemo(5), ' This took = ',time.time()-start)"
      ],
      "execution_count": null,
      "outputs": [
        {
          "output_type": "stream",
          "text": [
            "Output =  5  This took =  5.8650970458984375e-05\n"
          ],
          "name": "stdout"
        }
      ]
    },
    {
      "cell_type": "code",
      "metadata": {
        "id": "F0WP4aRs067j",
        "colab_type": "code",
        "colab": {
          "base_uri": "https://localhost:8080/",
          "height": 857
        },
        "outputId": "daed2e66-6581-4f5b-a4c1-96a9c453b208"
      },
      "source": [
        "for n in range(1,51):\n",
        "  print(fiblruc(n+1)/fiblruc(n))\n",
        "\n",
        "#ratio sees convergence- Golden ratio"
      ],
      "execution_count": null,
      "outputs": [
        {
          "output_type": "stream",
          "text": [
            "1.0\n",
            "2.0\n",
            "1.5\n",
            "1.6666666666666667\n",
            "1.6\n",
            "1.625\n",
            "1.6153846153846154\n",
            "1.619047619047619\n",
            "1.6176470588235294\n",
            "1.6181818181818182\n",
            "1.6179775280898876\n",
            "1.6180555555555556\n",
            "1.6180257510729614\n",
            "1.6180371352785146\n",
            "1.618032786885246\n",
            "1.618034447821682\n",
            "1.6180338134001253\n",
            "1.618034055727554\n",
            "1.6180339631667064\n",
            "1.6180339985218033\n",
            "1.618033985017358\n",
            "1.6180339901755971\n",
            "1.618033988205325\n",
            "1.618033988957902\n",
            "1.6180339886704431\n",
            "1.6180339887802426\n",
            "1.618033988738303\n",
            "1.6180339887543225\n",
            "1.6180339887482036\n",
            "1.6180339887505408\n",
            "1.6180339887496482\n",
            "1.618033988749989\n",
            "1.618033988749859\n",
            "1.6180339887499087\n",
            "1.6180339887498896\n",
            "1.618033988749897\n",
            "1.618033988749894\n",
            "1.6180339887498951\n",
            "1.6180339887498947\n",
            "1.618033988749895\n",
            "1.618033988749895\n",
            "1.618033988749895\n",
            "1.618033988749895\n",
            "1.618033988749895\n",
            "1.618033988749895\n",
            "1.618033988749895\n",
            "1.618033988749895\n",
            "1.618033988749895\n",
            "1.618033988749895\n",
            "1.618033988749895\n"
          ],
          "name": "stdout"
        }
      ]
    },
    {
      "cell_type": "markdown",
      "metadata": {
        "id": "D33YDFQ31Whl",
        "colab_type": "text"
      },
      "source": [
        "#Fibonacci with Decorators - Explicit"
      ]
    },
    {
      "cell_type": "markdown",
      "metadata": {
        "id": "ZPjGtQU446XW",
        "colab_type": "text"
      },
      "source": [
        "fibox is decorated by the memoize function\n",
        "memoize is the decorator\n",
        "fibox = memoize(fibox) points to the body of the wrapper function i.e. additional functionality as defined int he wrapper is added to the function fibox without changing it\n"
      ]
    },
    {
      "cell_type": "code",
      "metadata": {
        "id": "hz70HCv7u8Ak",
        "colab_type": "code",
        "colab": {}
      },
      "source": [
        "def memoize(function):\n",
        "  cache = {}\n",
        "  def wrapper(n):\n",
        "    if n not in cache:\n",
        "      cache[n] = function(n)\n",
        "    return cache[n]\n",
        "  return wrapper"
      ],
      "execution_count": null,
      "outputs": []
    },
    {
      "cell_type": "code",
      "metadata": {
        "id": "i42JuKosvl-O",
        "colab_type": "code",
        "colab": {}
      },
      "source": [
        "def fibox(n):\n",
        "  if n<=1:\n",
        "    return n\n",
        "  else:\n",
        "    return fibox(n-1)+fibox(n-2)\n",
        "\n",
        "fibox = memoize(fibox)"
      ],
      "execution_count": null,
      "outputs": []
    },
    {
      "cell_type": "code",
      "metadata": {
        "id": "B1qXlYpF4S5p",
        "colab_type": "code",
        "colab": {
          "base_uri": "https://localhost:8080/",
          "height": 185
        },
        "outputId": "6b5c8d7a-b83a-4cfb-c4ab-09d9e1a66369"
      },
      "source": [
        "for i in range(1,11):\n",
        "  print(fibox(i))\n"
      ],
      "execution_count": null,
      "outputs": [
        {
          "output_type": "stream",
          "text": [
            "1\n",
            "1\n",
            "2\n",
            "3\n",
            "5\n",
            "8\n",
            "13\n",
            "21\n",
            "34\n",
            "55\n"
          ],
          "name": "stdout"
        }
      ]
    },
    {
      "cell_type": "code",
      "metadata": {
        "id": "_Qm1JmO44S2T",
        "colab_type": "code",
        "colab": {
          "base_uri": "https://localhost:8080/",
          "height": 34
        },
        "outputId": "e55f8a3e-12ed-4383-da69-9ad1a0b7ce98"
      },
      "source": [
        "start = time.time()\n",
        "print('Output = ',fibmemo(50), ' This took = ',time.time()-start)"
      ],
      "execution_count": null,
      "outputs": [
        {
          "output_type": "stream",
          "text": [
            "Output =  12586269025  This took =  8.988380432128906e-05\n"
          ],
          "name": "stdout"
        }
      ]
    },
    {
      "cell_type": "markdown",
      "metadata": {
        "id": "CDqo6Vp_NFxK",
        "colab_type": "text"
      },
      "source": [
        "#GCD\n"
      ]
    },
    {
      "cell_type": "code",
      "metadata": {
        "id": "WwD4vnC2AsjS",
        "colab_type": "code",
        "colab": {
          "base_uri": "https://localhost:8080/",
          "height": 67
        },
        "outputId": "11be1276-b5c4-4d88-860f-d8129e56b994"
      },
      "source": [
        "def gcd_fast(a, b):\n",
        "  if b==0:\n",
        "    return a\n",
        "\n",
        "  a_1 = a%b\n",
        "  return gcd_fast(b,a_1)\n",
        "\n",
        "if __name__ == \"__main__\":\n",
        "    input_ = input('Enter values for a and b witha space\\n')\n",
        "    a, b = map(int, input_.split())\n",
        "    print(gcd_fast(a, b))\n"
      ],
      "execution_count": null,
      "outputs": [
        {
          "output_type": "stream",
          "text": [
            "Enter values for a and b witha space\n",
            "50 2\n",
            "2\n"
          ],
          "name": "stdout"
        }
      ]
    },
    {
      "cell_type": "markdown",
      "metadata": {
        "id": "sixMO6zrpnCJ",
        "colab_type": "text"
      },
      "source": [
        "#LCM"
      ]
    },
    {
      "cell_type": "code",
      "metadata": {
        "id": "uXidzsgWP3wD",
        "colab_type": "code",
        "colab": {
          "base_uri": "https://localhost:8080/",
          "height": 50
        },
        "outputId": "851b1ee5-b619-4253-b50b-a0d2fb6acd5b"
      },
      "source": [
        "def lcm_fast(a, b):\n",
        "  if a>b:\n",
        "    a,b = b,a\n",
        "\n",
        "    for l in range(b, a*b + 1,b):\n",
        "        if l % a == 0:\n",
        "            return l\n",
        "\n",
        "    return a*b\n",
        "\n",
        "if __name__ == '__main__':\n",
        "\n",
        "    a, b = map(int, input().split())\n",
        "    print(lcm_fast(a, b))"
      ],
      "execution_count": null,
      "outputs": [
        {
          "output_type": "stream",
          "text": [
            "100 50\n",
            "100\n"
          ],
          "name": "stdout"
        }
      ]
    },
    {
      "cell_type": "code",
      "metadata": {
        "id": "QUsOpk9ZVC2f",
        "colab_type": "code",
        "colab": {}
      },
      "source": [
        ""
      ],
      "execution_count": null,
      "outputs": []
    },
    {
      "cell_type": "markdown",
      "metadata": {
        "id": "Ub4AqayLts6y",
        "colab_type": "text"
      },
      "source": [
        "#Quick Sort\n",
        "\n",
        "- A divide and conquer algo\n",
        "- Worst case - O(n**2)\n",
        "- Average - O(nlogn)\n",
        "- Performance dependent on pivot chosen\n",
        "- Space complexity = O(log(n))\n"
      ]
    },
    {
      "cell_type": "code",
      "metadata": {
        "id": "_3uwhTeftuXC",
        "colab_type": "code",
        "colab": {}
      },
      "source": [
        "def quicksort(sequence):\n",
        "  \n",
        "\n",
        "  if len(sequence)<=1:\n",
        "    return sequence\n",
        "\n",
        "  pivot = sequence.pop(len(sequence)//2)\n",
        "  \n",
        "\n",
        "  smallerthanpivot = []\n",
        "  largerthanpivot = []\n",
        "\n",
        "\n",
        "  for num in sequence:\n",
        "    if num<pivot:\n",
        "      smallerthanpivot.append(num)\n",
        "    else:\n",
        "      largerthanpivot.append(num)\n",
        "\n",
        "\n",
        "  return quicksort(smallerthanpivot)+[pivot]+quicksort(largerthanpivot)"
      ],
      "execution_count": null,
      "outputs": []
    },
    {
      "cell_type": "code",
      "metadata": {
        "id": "tazsmo8OB_pg",
        "colab_type": "code",
        "colab": {}
      },
      "source": [
        "l = [0,9,3,8,2,7,5]"
      ],
      "execution_count": null,
      "outputs": []
    },
    {
      "cell_type": "code",
      "metadata": {
        "id": "YQfcNBJyB9g6",
        "colab_type": "code",
        "colab": {
          "base_uri": "https://localhost:8080/",
          "height": 34
        },
        "outputId": "172e8062-4555-44fe-ce49-cf3f4c6519d7"
      },
      "source": [
        "quicksort(l)"
      ],
      "execution_count": null,
      "outputs": [
        {
          "output_type": "execute_result",
          "data": {
            "text/plain": [
              "[0, 2, 3, 5, 7, 8, 9]"
            ]
          },
          "metadata": {
            "tags": []
          },
          "execution_count": 78
        }
      ]
    },
    {
      "cell_type": "markdown",
      "metadata": {
        "id": "nLWOPsZhDUqE",
        "colab_type": "text"
      },
      "source": [
        "#Best case - all elements are equal"
      ]
    },
    {
      "cell_type": "code",
      "metadata": {
        "id": "4rKQssW0DT3A",
        "colab_type": "code",
        "colab": {}
      },
      "source": [
        "def sort(array=[12,4,5,6,7,3,1,15]):\n",
        "    \"\"\"Sort the array by using quicksort.\"\"\"\n",
        "\n",
        "    less = []\n",
        "    equal = []\n",
        "    greater = []\n",
        "\n",
        "    if len(array) > 1:\n",
        "        pivot = array[0]\n",
        "        for x in array:\n",
        "            if x < pivot:\n",
        "                less.append(x)\n",
        "            elif x == pivot:\n",
        "                print('equal pivot')\n",
        "                equal.append(x)\n",
        "            elif x > pivot:\n",
        "                greater.append(x)\n",
        "        # Don't forget to return something!\n",
        "        return sort(less)+equal+sort(greater)  # Just use the + operator to join lists\n",
        "    # Note that you want equal ^^^^^ not pivot\n",
        "    else:  # You need to handle the part at the end of the recursion - when you only have one element in your array, just return the array.\n",
        "        return array"
      ],
      "execution_count": null,
      "outputs": []
    },
    {
      "cell_type": "code",
      "metadata": {
        "id": "fyVUIOYeIEHR",
        "colab_type": "code",
        "colab": {
          "base_uri": "https://localhost:8080/",
          "height": 185
        },
        "outputId": "8d31a63e-9a79-40af-cb3f-6167a3521816"
      },
      "source": [
        "sort([8,8,8,8,8,8,8,8,8])"
      ],
      "execution_count": null,
      "outputs": [
        {
          "output_type": "stream",
          "text": [
            "equal pivot\n",
            "equal pivot\n",
            "equal pivot\n",
            "equal pivot\n",
            "equal pivot\n",
            "equal pivot\n",
            "equal pivot\n",
            "equal pivot\n",
            "equal pivot\n"
          ],
          "name": "stdout"
        },
        {
          "output_type": "execute_result",
          "data": {
            "text/plain": [
              "[8, 8, 8, 8, 8, 8, 8, 8, 8]"
            ]
          },
          "metadata": {
            "tags": []
          },
          "execution_count": 5
        }
      ]
    },
    {
      "cell_type": "code",
      "metadata": {
        "id": "kBns9wQlDTzk",
        "colab_type": "code",
        "colab": {}
      },
      "source": [
        ""
      ],
      "execution_count": null,
      "outputs": []
    },
    {
      "cell_type": "markdown",
      "metadata": {
        "id": "wdXu116QINSc",
        "colab_type": "text"
      },
      "source": [
        "#Merge Sort\n",
        "\n",
        "- A Divide and conquer algo\n",
        "- complexity is O(n log(n)) in all cases\n",
        "- space complexity is O(n)"
      ]
    },
    {
      "cell_type": "code",
      "metadata": {
        "id": "6bVer1cKMCh6",
        "colab_type": "code",
        "colab": {}
      },
      "source": [
        "# create program to generate a random unsorted array\n",
        "import random\n",
        "\n",
        "def create_array(size=11, max=50):\n",
        "  return [random.randint(0,max) for _ in range(size)]"
      ],
      "execution_count": null,
      "outputs": []
    },
    {
      "cell_type": "code",
      "metadata": {
        "id": "68k0zks8MWg4",
        "colab_type": "code",
        "colab": {
          "base_uri": "https://localhost:8080/",
          "height": 34
        },
        "outputId": "de295b44-299f-41fb-8a7c-81945127bd1e"
      },
      "source": [
        "l = create_array()\n",
        "l"
      ],
      "execution_count": null,
      "outputs": [
        {
          "output_type": "execute_result",
          "data": {
            "text/plain": [
              "[23, 33, 1, 30, 10, 30, 6, 45, 40, 12, 5]"
            ]
          },
          "metadata": {
            "tags": []
          },
          "execution_count": 64
        }
      ]
    },
    {
      "cell_type": "code",
      "metadata": {
        "id": "vtembATcIPx8",
        "colab_type": "code",
        "colab": {}
      },
      "source": [
        "def merge(a,b):\n",
        "  print('a=',a,' b = ',b)\n",
        "  c=[] #final output array\n",
        "  aidx, bidx = 0,0\n",
        "\n",
        "  while aidx<len(a) and bidx < len(b):\n",
        "    if a[aidx]<b[bidx]:\n",
        "      c.append(a[aidx])\n",
        "      aidx+=1\n",
        "    else:\n",
        "      c.append(b[bidx])\n",
        "      bidx+=1\n",
        "  \n",
        "  if aidx == len(a):\n",
        "    c.extend(b[bidx:])\n",
        "  else:\n",
        "    c.extend(a[aidx:])\n",
        "  \n",
        "  return c\n",
        "\n"
      ],
      "execution_count": null,
      "outputs": []
    },
    {
      "cell_type": "code",
      "metadata": {
        "id": "hiB-_kiWVewi",
        "colab_type": "code",
        "colab": {}
      },
      "source": [
        "def merge_sort(sequence):\n",
        "  if len(sequence)<=1:\n",
        "    return sequence\n",
        "  left, right = merge_sort(sequence[:len(sequence)//2]), merge_sort(sequence[len(sequence)//2:])\n",
        "  print('left = ',left,' right = ',right)\n",
        "\n",
        "  return merge(left,right)"
      ],
      "execution_count": null,
      "outputs": []
    },
    {
      "cell_type": "code",
      "metadata": {
        "id": "_ymoEMKnVXjs",
        "colab_type": "code",
        "colab": {
          "base_uri": "https://localhost:8080/",
          "height": 168
        },
        "outputId": "da51e934-36fe-4084-f82b-376059bb5e25"
      },
      "source": [
        "merge_sort([6,1,5,2,3])"
      ],
      "execution_count": null,
      "outputs": [
        {
          "output_type": "stream",
          "text": [
            "left =  [6]  right =  [1]\n",
            "a= [6]  b =  [1]\n",
            "left =  [2]  right =  [3]\n",
            "a= [2]  b =  [3]\n",
            "left =  [5]  right =  [2, 3]\n",
            "a= [5]  b =  [2, 3]\n",
            "left =  [1, 6]  right =  [2, 3, 5]\n",
            "a= [1, 6]  b =  [2, 3, 5]\n"
          ],
          "name": "stdout"
        },
        {
          "output_type": "execute_result",
          "data": {
            "text/plain": [
              "[1, 2, 3, 5, 6]"
            ]
          },
          "metadata": {
            "tags": []
          },
          "execution_count": 3
        }
      ]
    },
    {
      "cell_type": "code",
      "metadata": {
        "id": "LL3yT3e4Z2hs",
        "colab_type": "code",
        "colab": {
          "base_uri": "https://localhost:8080/",
          "height": 34
        },
        "outputId": "8b9e9ad6-bd91-4127-85e6-46521990ff4e"
      },
      "source": [
        "merge_sort(l)"
      ],
      "execution_count": null,
      "outputs": [
        {
          "output_type": "execute_result",
          "data": {
            "text/plain": [
              "[2, 3, 4, 9, 20, 21, 28, 29, 29, 35, 46]"
            ]
          },
          "metadata": {
            "tags": []
          },
          "execution_count": 25
        }
      ]
    },
    {
      "cell_type": "code",
      "metadata": {
        "id": "Sv-ICzI2Z8W4",
        "colab_type": "code",
        "colab": {}
      },
      "source": [
        ""
      ],
      "execution_count": null,
      "outputs": []
    },
    {
      "cell_type": "markdown",
      "metadata": {
        "id": "wHfjFiTMaO0A",
        "colab_type": "text"
      },
      "source": [
        "#Selection Sort\n",
        "\n",
        "The smallest value makes its way to the beginning of the list in the very first iteration"
      ]
    },
    {
      "cell_type": "code",
      "metadata": {
        "id": "ZNbmlphbaRwj",
        "colab_type": "code",
        "colab": {}
      },
      "source": [
        "def selsort(sequence):\n",
        "  for i in range(0,len(sequence)):\n",
        "    mini = i\n",
        "    for j in range(i+1,len(sequence)):\n",
        "      if sequence[j]<sequence[mini]:\n",
        "        mini=j\n",
        "    \n",
        "    sequence[mini],sequence[i] = sequence[i],sequence[mini]\n",
        "    \n",
        "  return sequence\n",
        "\n",
        "    \n"
      ],
      "execution_count": null,
      "outputs": []
    },
    {
      "cell_type": "code",
      "metadata": {
        "id": "h-4UPPsmzqz5",
        "colab_type": "code",
        "colab": {
          "base_uri": "https://localhost:8080/",
          "height": 34
        },
        "outputId": "928cb756-6e74-429d-cb01-92c38fb7bb10"
      },
      "source": [
        "selsort(l)"
      ],
      "execution_count": null,
      "outputs": [
        {
          "output_type": "execute_result",
          "data": {
            "text/plain": [
              "[2, 3, 4, 9, 20, 21, 28, 29, 29, 35, 46]"
            ]
          },
          "metadata": {
            "tags": []
          },
          "execution_count": 31
        }
      ]
    },
    {
      "cell_type": "code",
      "metadata": {
        "id": "lYJDGrgRzr5_",
        "colab_type": "code",
        "colab": {}
      },
      "source": [
        ""
      ],
      "execution_count": null,
      "outputs": []
    },
    {
      "cell_type": "markdown",
      "metadata": {
        "id": "ETKYM79I5CES",
        "colab_type": "text"
      },
      "source": [
        "#Bubble Sort\n",
        "The largest value bubbles its way through to the end in the very first iteration"
      ]
    },
    {
      "cell_type": "code",
      "metadata": {
        "id": "C6oOXA1n5DdR",
        "colab_type": "code",
        "colab": {}
      },
      "source": [
        "def bubblesort(sequence):\n",
        "  for i in range(0,len(sequence)):\n",
        "    for j in range(0,len(sequence)-i-1):# len(seq)-i-1 so that we don't need to go through the sorted part of the array\n",
        "      if sequence[j]>sequence[j+1]: # making j --> j+1 and vice versa sorts in descending order\n",
        "        sequence[j],sequence[j+1] = sequence[j+1],sequence[j]\n",
        "\n",
        "  return sequence"
      ],
      "execution_count": null,
      "outputs": []
    },
    {
      "cell_type": "code",
      "metadata": {
        "id": "G1rgy5ku5d47",
        "colab_type": "code",
        "colab": {
          "base_uri": "https://localhost:8080/",
          "height": 34
        },
        "outputId": "6d01e673-b1d6-495d-c9a5-242aa315110a"
      },
      "source": [
        "bubblesort(l)"
      ],
      "execution_count": null,
      "outputs": [
        {
          "output_type": "execute_result",
          "data": {
            "text/plain": [
              "[2, 3, 4, 9, 20, 21, 28, 29, 29, 35, 46]"
            ]
          },
          "metadata": {
            "tags": []
          },
          "execution_count": 36
        }
      ]
    },
    {
      "cell_type": "code",
      "metadata": {
        "id": "5ODUEjqy5fGN",
        "colab_type": "code",
        "colab": {
          "base_uri": "https://localhost:8080/",
          "height": 34
        },
        "outputId": "f069fe85-531c-40fb-aa0a-c174062657f5"
      },
      "source": [
        "l"
      ],
      "execution_count": null,
      "outputs": [
        {
          "output_type": "execute_result",
          "data": {
            "text/plain": [
              "[46, 35, 29, 29, 28, 21, 20, 9, 4, 3, 2]"
            ]
          },
          "metadata": {
            "tags": []
          },
          "execution_count": 34
        }
      ]
    },
    {
      "cell_type": "code",
      "metadata": {
        "id": "94x1Ad0u5k1X",
        "colab_type": "code",
        "colab": {}
      },
      "source": [
        ""
      ],
      "execution_count": null,
      "outputs": []
    },
    {
      "cell_type": "markdown",
      "metadata": {
        "id": "fhAHN0Gr52jC",
        "colab_type": "text"
      },
      "source": [
        "#Binary Addition"
      ]
    },
    {
      "cell_type": "code",
      "metadata": {
        "id": "af-u01GqK4z_",
        "colab_type": "code",
        "colab": {
          "base_uri": "https://localhost:8080/",
          "height": 34
        },
        "outputId": "41ecd223-f8db-45a8-dafa-c8f7742c35a0"
      },
      "source": [
        "o = []\n",
        "o.insert(0,'1')\n",
        "o"
      ],
      "execution_count": null,
      "outputs": [
        {
          "output_type": "execute_result",
          "data": {
            "text/plain": [
              "['1']"
            ]
          },
          "metadata": {
            "tags": []
          },
          "execution_count": 44
        }
      ]
    },
    {
      "cell_type": "code",
      "metadata": {
        "id": "3SQruXws54Ou",
        "colab_type": "code",
        "colab": {}
      },
      "source": [
        "def binadd(a,b):\n",
        "  maxlen = max(len(a),len(b))\n",
        "  a = a.zfill(maxlen)\n",
        "  b = b.zfill(maxlen)\n",
        "\n",
        "  output = ['']*maxlen\n",
        "  carry = 0\n",
        "\n",
        "  for i in range(maxlen-1,-1,-1):\n",
        " \n",
        "    temp = carry+int(a[i])+int(b[i])\n",
        "\n",
        "    if temp<=1:\n",
        "      carry=0\n",
        "      output[i]=str(temp)\n",
        "\n",
        "    if temp==2:\n",
        "      carry=1\n",
        "      output[i]='0'\n",
        "\n",
        "    if temp==3:\n",
        "      carry=1\n",
        "      output[i]='1'\n",
        "\n",
        "    if i==0:\n",
        "      output.insert(0,str(carry))\n",
        "\n",
        "  print(''.join(output))  \n",
        "    \n",
        "\n"
      ],
      "execution_count": null,
      "outputs": []
    },
    {
      "cell_type": "code",
      "metadata": {
        "id": "mLqpwfbvMczH",
        "colab_type": "code",
        "colab": {}
      },
      "source": [
        "a = '1111'\n",
        "b = '11'"
      ],
      "execution_count": null,
      "outputs": []
    },
    {
      "cell_type": "code",
      "metadata": {
        "id": "iQUr5YKxMcvX",
        "colab_type": "code",
        "colab": {
          "base_uri": "https://localhost:8080/",
          "height": 34
        },
        "outputId": "daa4bd37-a5db-4265-fc12-fa9ee7fcfeed"
      },
      "source": [
        "binadd(a,b)"
      ],
      "execution_count": null,
      "outputs": [
        {
          "output_type": "stream",
          "text": [
            "10010\n"
          ],
          "name": "stdout"
        }
      ]
    },
    {
      "cell_type": "markdown",
      "metadata": {
        "id": "OuaclSLEjToZ",
        "colab_type": "text"
      },
      "source": [
        "#Print all powers of 2 until n"
      ]
    },
    {
      "cell_type": "code",
      "metadata": {
        "id": "z6j-pZiuyh6z",
        "colab_type": "code",
        "colab": {}
      },
      "source": [
        "def power2(n):\n",
        "  i=0\n",
        "  while 2**i<=n:\n",
        "    print(2**i)\n",
        "    i+=1"
      ],
      "execution_count": null,
      "outputs": []
    },
    {
      "cell_type": "code",
      "metadata": {
        "id": "jEHZQ6SByh0e",
        "colab_type": "code",
        "colab": {
          "base_uri": "https://localhost:8080/",
          "height": 84
        },
        "outputId": "0bf8da9e-82d9-4578-bcc4-574ab1121271"
      },
      "source": [
        "power2(8)"
      ],
      "execution_count": null,
      "outputs": [
        {
          "output_type": "stream",
          "text": [
            "1\n",
            "2\n",
            "4\n",
            "8\n"
          ],
          "name": "stdout"
        }
      ]
    },
    {
      "cell_type": "code",
      "metadata": {
        "id": "n-qmS2_hyhxZ",
        "colab_type": "code",
        "colab": {}
      },
      "source": [
        "import math"
      ],
      "execution_count": null,
      "outputs": []
    },
    {
      "cell_type": "code",
      "metadata": {
        "id": "RyikUMSeyhuh",
        "colab_type": "code",
        "colab": {}
      },
      "source": [
        "def power2(n):\n",
        "  for i in range(1,n+1):\n",
        "    if math.log2(i).is_integer():\n",
        "      print(i)"
      ],
      "execution_count": null,
      "outputs": []
    },
    {
      "cell_type": "code",
      "metadata": {
        "id": "DUUBifrWyhqT",
        "colab_type": "code",
        "colab": {
          "base_uri": "https://localhost:8080/",
          "height": 67
        },
        "outputId": "b061194e-cd05-49b1-9209-698020da71b8"
      },
      "source": [
        "power2(6)"
      ],
      "execution_count": null,
      "outputs": [
        {
          "output_type": "stream",
          "text": [
            "1\n",
            "2\n",
            "4\n"
          ],
          "name": "stdout"
        }
      ]
    },
    {
      "cell_type": "markdown",
      "metadata": {
        "id": "m_Ke3oxxsD7X",
        "colab_type": "text"
      },
      "source": [
        "#Logical Right shift - incomplete"
      ]
    },
    {
      "cell_type": "code",
      "metadata": {
        "id": "8r8tpFJEtMYX",
        "colab_type": "code",
        "colab": {}
      },
      "source": [
        "N=0b1111\n",
        "shift_num = 1"
      ],
      "execution_count": null,
      "outputs": []
    },
    {
      "cell_type": "code",
      "metadata": {
        "id": "x-L1EJBbW6CG",
        "colab_type": "code",
        "colab": {}
      },
      "source": [
        "def logicalrshift(N,shift_num):\n",
        "  for i in range(0,shift_num):\n",
        "    N>>=1\n",
        "  return \"{0:b}\".format(N)"
      ],
      "execution_count": null,
      "outputs": []
    },
    {
      "cell_type": "code",
      "metadata": {
        "id": "DHnTXx0MXOvK",
        "colab_type": "code",
        "colab": {
          "base_uri": "https://localhost:8080/",
          "height": 34
        },
        "outputId": "19e95609-7aee-4bbe-aabb-19f980e34ab0"
      },
      "source": [
        "logicalrshift(N,shift_num)"
      ],
      "execution_count": null,
      "outputs": [
        {
          "output_type": "execute_result",
          "data": {
            "text/plain": [
              "'111'"
            ]
          },
          "metadata": {
            "tags": []
          },
          "execution_count": 25
        }
      ]
    },
    {
      "cell_type": "code",
      "metadata": {
        "id": "0iDYQtfHXTOY",
        "colab_type": "code",
        "colab": {}
      },
      "source": [
        "def insertion(n, m, i, j):\n",
        "  cleared_n = n & ~((1 << (j+1)) - (1 << i))\n",
        "  shifted_m = m << i\n",
        "  return cleared_n | shifted_m \n",
        "\n",
        "import unittest\n",
        "\n",
        "class Test(unittest.TestCase):\n",
        "  def test_insertion(self):\n",
        "    self.assertEqual(insertion(0b11111111, 0b10, 2, 5), 0b11001011)\n",
        "    self.assertEqual(insertion(0b00000000, 0b1010, 4, 7), 0b10100000)\n",
        "\n",
        "if __name__ == \"__main__\":\n",
        "  unittest.main()"
      ],
      "execution_count": null,
      "outputs": []
    },
    {
      "cell_type": "code",
      "metadata": {
        "id": "HpTYj4pttMCY",
        "colab_type": "code",
        "colab": {
          "base_uri": "https://localhost:8080/",
          "height": 34
        },
        "outputId": "9241653b-e167-466b-9ea8-b0ae5625cd58"
      },
      "source": [
        "n = 0b11111111\n",
        "m = 0b10\n",
        "j=5\n",
        "print((n & ~((1<<(j+1)) - (1<<2)))| m<<i)"
      ],
      "execution_count": null,
      "outputs": [
        {
          "output_type": "stream",
          "text": [
            "211\n"
          ],
          "name": "stdout"
        }
      ]
    },
    {
      "cell_type": "code",
      "metadata": {
        "id": "vteZERBstXOq",
        "colab_type": "code",
        "colab": {
          "base_uri": "https://localhost:8080/",
          "height": 34
        },
        "outputId": "504c6207-b0c7-4da3-b8de-ca392f77b9a5"
      },
      "source": [
        "test = 0b11000000\n",
        "test"
      ],
      "execution_count": null,
      "outputs": [
        {
          "output_type": "execute_result",
          "data": {
            "text/plain": [
              "192"
            ]
          },
          "metadata": {
            "tags": []
          },
          "execution_count": 30
        }
      ]
    },
    {
      "cell_type": "code",
      "metadata": {
        "id": "ykeHaLAztciY",
        "colab_type": "code",
        "colab": {
          "base_uri": "https://localhost:8080/",
          "height": 34
        },
        "outputId": "b8f18ed2-64e5-478d-80dc-776c732ebdad"
      },
      "source": [
        "1<<2"
      ],
      "execution_count": null,
      "outputs": [
        {
          "output_type": "execute_result",
          "data": {
            "text/plain": [
              "4"
            ]
          },
          "metadata": {
            "tags": []
          },
          "execution_count": 35
        }
      ]
    },
    {
      "cell_type": "code",
      "metadata": {
        "id": "64gieN3ct4y6",
        "colab_type": "code",
        "colab": {
          "base_uri": "https://localhost:8080/",
          "height": 34
        },
        "outputId": "0ee8d59e-57e5-4610-ae1b-1452f56c9a49"
      },
      "source": [
        "1<<1"
      ],
      "execution_count": null,
      "outputs": [
        {
          "output_type": "execute_result",
          "data": {
            "text/plain": [
              "2"
            ]
          },
          "metadata": {
            "tags": []
          },
          "execution_count": 33
        }
      ]
    },
    {
      "cell_type": "code",
      "metadata": {
        "id": "k7naItbGvNs9",
        "colab_type": "code",
        "colab": {}
      },
      "source": [
        ""
      ],
      "execution_count": null,
      "outputs": []
    },
    {
      "cell_type": "markdown",
      "metadata": {
        "id": "1-3LvNOu542J",
        "colab_type": "text"
      },
      "source": [
        "#Binary Search"
      ]
    },
    {
      "cell_type": "code",
      "metadata": {
        "id": "Sgye-bje567i",
        "colab_type": "code",
        "colab": {}
      },
      "source": [
        "def binary_search(sequence,item):\n",
        "\n",
        "  start = 0\n",
        "  end = len(sequence)-1\n",
        "\n",
        "  while start <= end:\n",
        "    \n",
        "    mid = (start + end)//2\n",
        "\n",
        "    midvalue = sequence[mid]\n",
        "\n",
        "    if item == midvalue:\n",
        "      return mid\n",
        "\n",
        "    elif item < midvalue:\n",
        "      end = mid-1\n",
        "    \n",
        "    elif item > midvalue:\n",
        "      start = mid+1\n",
        "\n",
        "  return None\n",
        "\n",
        "\n",
        "    \n",
        "\n",
        "\n"
      ],
      "execution_count": null,
      "outputs": []
    },
    {
      "cell_type": "code",
      "metadata": {
        "id": "hY64ntPn74cO",
        "colab_type": "code",
        "colab": {}
      },
      "source": [
        "sequence = [2,4,5,6,7,8,9,10,12,13,14]\n",
        "item = 14"
      ],
      "execution_count": null,
      "outputs": []
    },
    {
      "cell_type": "code",
      "metadata": {
        "id": "FiPVjV_z7-dP",
        "colab_type": "code",
        "colab": {
          "base_uri": "https://localhost:8080/",
          "height": 34
        },
        "outputId": "c84ad989-dff9-46ea-b4d8-aeac52f1e687"
      },
      "source": [
        "print(binary_search(sequence, item))"
      ],
      "execution_count": null,
      "outputs": [
        {
          "output_type": "stream",
          "text": [
            "10\n"
          ],
          "name": "stdout"
        }
      ]
    },
    {
      "cell_type": "markdown",
      "metadata": {
        "id": "iMevJiITqjvy",
        "colab_type": "text"
      },
      "source": [
        "#Search for small string - s in big string b\n",
        "\n",
        "Brute force method would have O(s!*b). s! is a bottleneck as it is worse than exponential time.\n",
        "\n",
        "Method 1  - generate permuations of s, iterate through b one char at a time to check if substring is one of the permuations of s\n",
        "This is  - O(s! + len(b)*s!) which is O(len(b) * s!)\n",
        "\n",
        "\n",
        "Method 2 -  Check for count of each character in s, iterate through b, check if count of elements of s (stored in a dic) is the same as the count of elements in the substring of b (length of a) \n",
        "This is O(s+len(b)*len(set(s))) which is O(len(b)*len(s))"
      ]
    },
    {
      "cell_type": "markdown",
      "metadata": {
        "id": "V8oqYoQN4wqA",
        "colab_type": "text"
      },
      "source": [
        "##Method 1"
      ]
    },
    {
      "cell_type": "code",
      "metadata": {
        "id": "YTD5h1nJiBRz",
        "colab_type": "code",
        "colab": {}
      },
      "source": [
        "s = 'abbc'\n",
        "b = 'babcabbacaabcbabcacbb'"
      ],
      "execution_count": null,
      "outputs": []
    },
    {
      "cell_type": "code",
      "metadata": {
        "id": "n7ZvG9-7mEb0",
        "colab_type": "code",
        "colab": {}
      },
      "source": [
        "from itertools import permutations"
      ],
      "execution_count": null,
      "outputs": []
    },
    {
      "cell_type": "code",
      "metadata": {
        "id": "1ioCNe-Wqyed",
        "colab_type": "code",
        "colab": {}
      },
      "source": [
        "\n",
        "perms = [''.join(p) for p in permutations(s)]\n",
        "#perms"
      ],
      "execution_count": null,
      "outputs": []
    },
    {
      "cell_type": "code",
      "metadata": {
        "id": "jtK11Pi40Xj2",
        "colab_type": "code",
        "colab": {}
      },
      "source": [
        "c=0\n",
        "for j in range(0,len(b)-3):\n",
        "    #print('i = ',i,' and j= ',b[j:j+4])\n",
        "    if b[j:j+4] in perms:\n",
        "      #print('count incre')\n",
        "      c = c+1"
      ],
      "execution_count": null,
      "outputs": []
    },
    {
      "cell_type": "code",
      "metadata": {
        "id": "Ae_stMu-0XgV",
        "colab_type": "code",
        "colab": {
          "base_uri": "https://localhost:8080/",
          "height": 34
        },
        "outputId": "3d660854-4901-4952-b2d0-7c3b7f49f72f"
      },
      "source": [
        "print(c)"
      ],
      "execution_count": null,
      "outputs": [
        {
          "output_type": "stream",
          "text": [
            "9\n"
          ],
          "name": "stdout"
        }
      ]
    },
    {
      "cell_type": "code",
      "metadata": {
        "id": "CaFJNeyD0XdY",
        "colab_type": "code",
        "colab": {}
      },
      "source": [
        ""
      ],
      "execution_count": null,
      "outputs": []
    },
    {
      "cell_type": "markdown",
      "metadata": {
        "id": "Cawtzn8O4zMp",
        "colab_type": "text"
      },
      "source": [
        "##Method 2"
      ]
    },
    {
      "cell_type": "code",
      "metadata": {
        "id": "G_QeFeNvrqLg",
        "colab_type": "code",
        "colab": {
          "base_uri": "https://localhost:8080/",
          "height": 34
        },
        "outputId": "8cbfbe77-6de7-46e5-8b85-d335309d4473"
      },
      "source": [
        "dic ={}\n",
        "for x in s:\n",
        "  dic[x] = s.count(x)\n",
        "dic"
      ],
      "execution_count": null,
      "outputs": [
        {
          "output_type": "execute_result",
          "data": {
            "text/plain": [
              "{'a': 1, 'b': 2, 'c': 1}"
            ]
          },
          "metadata": {
            "tags": []
          },
          "execution_count": 8
        }
      ]
    },
    {
      "cell_type": "code",
      "metadata": {
        "id": "LYOqTpnsrCM7",
        "colab_type": "code",
        "colab": {}
      },
      "source": [
        "def searchsinb(s,b):\n",
        "  dic ={}\n",
        "  for x in s:\n",
        "    dic[x] = s.count(x)\n",
        "\n",
        "  c2=0\n",
        "  count = True\n",
        "\n",
        "  for i in range(0,len(b)-3):\n",
        "\n",
        "    for j in dic:\n",
        "      \n",
        "      if dic[j] != b[i:i+len(s)].count(j):\n",
        "        count=False\n",
        "\n",
        "    if count:\n",
        "      c2+=1\n",
        "\n",
        "    count=True\n",
        "  return c2\n"
      ],
      "execution_count": null,
      "outputs": []
    },
    {
      "cell_type": "code",
      "metadata": {
        "id": "oo_KI5Dlt6mP",
        "colab_type": "code",
        "colab": {
          "base_uri": "https://localhost:8080/",
          "height": 34
        },
        "outputId": "433878ec-ad52-43c1-c7e6-a048c23a0fd9"
      },
      "source": [
        "searchsinb(s,b)"
      ],
      "execution_count": null,
      "outputs": [
        {
          "output_type": "execute_result",
          "data": {
            "text/plain": [
              "9"
            ]
          },
          "metadata": {
            "tags": []
          },
          "execution_count": 11
        }
      ]
    }
  ]
}