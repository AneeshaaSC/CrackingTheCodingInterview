{
  "nbformat": 4,
  "nbformat_minor": 0,
  "metadata": {
    "colab": {
      "name": "CTCI - Arrays and Strings.ipynb",
      "provenance": [],
      "collapsed_sections": [
        "Ap6kFRHqOZGs",
        "fyY31-RIRV7b",
        "-nQHkGwVT5YB",
        "W8qukn6I8Yla",
        "SAFmJclD6gui",
        "jRyp_gUmNttY"
      ]
    },
    "kernelspec": {
      "name": "python3",
      "display_name": "Python 3"
    }
  },
  "cells": [
    {
      "cell_type": "code",
      "metadata": {
        "id": "88arET9E1iC9",
        "colab_type": "code",
        "colab": {}
      },
      "source": [
        "import unittest"
      ],
      "execution_count": 1,
      "outputs": []
    },
    {
      "cell_type": "markdown",
      "metadata": {
        "id": "Ap6kFRHqOZGs",
        "colab_type": "text"
      },
      "source": [
        "#Check if string has only unique characters\n",
        "- solution 1 - using set \n",
        "- solution 2 - using dictionary\n",
        "- solution 3 - without any additional datastructures"
      ]
    },
    {
      "cell_type": "code",
      "metadata": {
        "id": "MwfTt31yFEIi",
        "colab_type": "code",
        "colab": {}
      },
      "source": [
        "s1 = 'abcd'\n",
        "s2 = 'aabcd'"
      ],
      "execution_count": 11,
      "outputs": []
    },
    {
      "cell_type": "code",
      "metadata": {
        "id": "imxUJSf4FNZl",
        "colab_type": "code",
        "colab": {}
      },
      "source": [
        "def checkunique(s):\n",
        "  return len(s)==len(set(s))"
      ],
      "execution_count": 12,
      "outputs": []
    },
    {
      "cell_type": "code",
      "metadata": {
        "id": "aRR5LxdvfQsJ",
        "colab_type": "code",
        "colab": {
          "base_uri": "https://localhost:8080/",
          "height": 0
        },
        "outputId": "80a09aeb-e82c-4130-d7e8-78d0ab529b41"
      },
      "source": [
        "checkunique(s2)"
      ],
      "execution_count": 13,
      "outputs": [
        {
          "output_type": "execute_result",
          "data": {
            "text/plain": [
              "False"
            ]
          },
          "metadata": {
            "tags": []
          },
          "execution_count": 13
        }
      ]
    },
    {
      "cell_type": "code",
      "metadata": {
        "id": "RttxmTbmZ4SV",
        "colab_type": "code",
        "colab": {}
      },
      "source": [
        "def checkunique2(s):\n",
        "  if len(s)==1:\n",
        "    return True\n",
        "  hmap = {}\n",
        "  for i in s:\n",
        "    if i not in hmap:\n",
        "      hmap[i]=1\n",
        "    else:\n",
        "      return False\n",
        "  return True\n",
        "\n"
      ],
      "execution_count": 14,
      "outputs": []
    },
    {
      "cell_type": "code",
      "metadata": {
        "id": "U8sgsPm3LFIk",
        "colab_type": "code",
        "colab": {
          "base_uri": "https://localhost:8080/",
          "height": 0
        },
        "outputId": "c1a63954-6795-4f30-ec38-6d73484fdcff"
      },
      "source": [
        "checkunique2(s2)"
      ],
      "execution_count": 16,
      "outputs": [
        {
          "output_type": "execute_result",
          "data": {
            "text/plain": [
              "False"
            ]
          },
          "metadata": {
            "tags": []
          },
          "execution_count": 16
        }
      ]
    },
    {
      "cell_type": "code",
      "metadata": {
        "id": "f-r441nALc63",
        "colab_type": "code",
        "colab": {}
      },
      "source": [
        "def checkunique3(s):\n",
        "  if len(s)==1:\n",
        "    return True\n",
        "\n",
        "  temps = sorted(s)\n",
        "  for i in range(len(s)-1):\n",
        "    if temps[i] == temps[i+1]:\n",
        "      return False\n",
        "      \n",
        "  return True\n"
      ],
      "execution_count": 23,
      "outputs": []
    },
    {
      "cell_type": "code",
      "metadata": {
        "id": "WcWRv7kFQazX",
        "colab_type": "code",
        "colab": {
          "base_uri": "https://localhost:8080/",
          "height": 0
        },
        "outputId": "6b5bd6a4-e93e-44fb-8529-ffbf9981d8ea"
      },
      "source": [
        "checkunique3(s2)"
      ],
      "execution_count": 24,
      "outputs": [
        {
          "output_type": "execute_result",
          "data": {
            "text/plain": [
              "False"
            ]
          },
          "metadata": {
            "tags": []
          },
          "execution_count": 24
        }
      ]
    },
    {
      "cell_type": "markdown",
      "metadata": {
        "id": "fyY31-RIRV7b",
        "colab_type": "text"
      },
      "source": [
        "#Check if two strings are permutations of each other\n",
        "- sol1 - sort and check for inequalities\n",
        "- sol2 - make dictionary with counts, check for inequalities"
      ]
    },
    {
      "cell_type": "code",
      "metadata": {
        "id": "2YNLCRknQc6m",
        "colab_type": "code",
        "colab": {}
      },
      "source": [
        "s1 = 'dog'\n",
        "s2 = 'god'"
      ],
      "execution_count": 25,
      "outputs": []
    },
    {
      "cell_type": "code",
      "metadata": {
        "id": "2f55fWNZQ9BE",
        "colab_type": "code",
        "colab": {}
      },
      "source": [
        "def checkperm(a,b):\n",
        "  if len(a)!=len(b):\n",
        "    return False\n",
        "  a = sorted(a)\n",
        "  b = sorted(b)\n",
        "\n",
        "  for i in range(len(a)):\n",
        "    if a[i]!=b[i]:\n",
        "      return False\n",
        "\n",
        "  return True"
      ],
      "execution_count": 26,
      "outputs": []
    },
    {
      "cell_type": "code",
      "metadata": {
        "id": "7UQ2WgOKQ_DP",
        "colab_type": "code",
        "colab": {
          "base_uri": "https://localhost:8080/",
          "height": 0
        },
        "outputId": "3569e8d3-2c0f-418e-8dbb-f477587f4554"
      },
      "source": [
        "checkperm(s1,s2)"
      ],
      "execution_count": 27,
      "outputs": [
        {
          "output_type": "execute_result",
          "data": {
            "text/plain": [
              "True"
            ]
          },
          "metadata": {
            "tags": []
          },
          "execution_count": 27
        }
      ]
    },
    {
      "cell_type": "code",
      "metadata": {
        "id": "cyuw3D4sR1iR",
        "colab_type": "code",
        "colab": {
          "base_uri": "https://localhost:8080/",
          "height": 0
        },
        "outputId": "40f6c390-661a-4736-c8ec-571ccc1107fe"
      },
      "source": [
        "checkperm('God','dog')"
      ],
      "execution_count": 28,
      "outputs": [
        {
          "output_type": "execute_result",
          "data": {
            "text/plain": [
              "False"
            ]
          },
          "metadata": {
            "tags": []
          },
          "execution_count": 28
        }
      ]
    },
    {
      "cell_type": "code",
      "metadata": {
        "id": "DkhcoOALR5Qd",
        "colab_type": "code",
        "colab": {}
      },
      "source": [
        "def makedic(s):\n",
        "  sdic={}\n",
        "  for i in s:\n",
        "    if i in sdic:\n",
        "      sdic[i]+=1\n",
        "    else:\n",
        "      sdic[i]=1\n",
        "\n",
        "  return sdic\n"
      ],
      "execution_count": 29,
      "outputs": []
    },
    {
      "cell_type": "code",
      "metadata": {
        "id": "q3Q7nve4STu9",
        "colab_type": "code",
        "colab": {}
      },
      "source": [
        "def checkperm2(a,b):\n",
        "  if len(a)!=len(b):\n",
        "    return False\n",
        "  adic = makedic(a)\n",
        "  bdic = makedic(b)\n",
        "\n",
        "  return adic==bdic"
      ],
      "execution_count": 30,
      "outputs": []
    },
    {
      "cell_type": "code",
      "metadata": {
        "id": "yB20E1-ITUDx",
        "colab_type": "code",
        "colab": {
          "base_uri": "https://localhost:8080/",
          "height": 0
        },
        "outputId": "d5aaac9e-7075-48dd-9dd5-5c62ddb2e49b"
      },
      "source": [
        "checkperm2('dog','god')"
      ],
      "execution_count": 31,
      "outputs": [
        {
          "output_type": "execute_result",
          "data": {
            "text/plain": [
              "True"
            ]
          },
          "metadata": {
            "tags": []
          },
          "execution_count": 31
        }
      ]
    },
    {
      "cell_type": "code",
      "metadata": {
        "id": "6NVSsyFgTYVI",
        "colab_type": "code",
        "colab": {
          "base_uri": "https://localhost:8080/",
          "height": 0
        },
        "outputId": "a21434c8-043c-4834-ee64-cdf64321e8a0"
      },
      "source": [
        "checkperm2('Dog','god')"
      ],
      "execution_count": 32,
      "outputs": [
        {
          "output_type": "execute_result",
          "data": {
            "text/plain": [
              "False"
            ]
          },
          "metadata": {
            "tags": []
          },
          "execution_count": 32
        }
      ]
    },
    {
      "cell_type": "markdown",
      "metadata": {
        "id": "-nQHkGwVT5YB",
        "colab_type": "text"
      },
      "source": [
        "#URLify"
      ]
    },
    {
      "cell_type": "code",
      "metadata": {
        "id": "RwJpqzobTamg",
        "colab_type": "code",
        "colab": {}
      },
      "source": [
        "def makeurl(s):\n",
        "  url = []\n",
        "  s = s.strip()\n",
        "  for i in s:\n",
        "    if i.isspace():\n",
        "      url.append('%20')\n",
        "    else:\n",
        "      url.append(i)\n",
        "  return ''.join(url)\n",
        "\n",
        "    \n"
      ],
      "execution_count": 9,
      "outputs": []
    },
    {
      "cell_type": "code",
      "metadata": {
        "id": "gmPSbF28UJy6",
        "colab_type": "code",
        "colab": {
          "base_uri": "https://localhost:8080/",
          "height": 0
        },
        "outputId": "39c15581-5adb-448a-8352-8bbd81d3dc06"
      },
      "source": [
        "makeurl('much ado about nothing      ')"
      ],
      "execution_count": 10,
      "outputs": [
        {
          "output_type": "execute_result",
          "data": {
            "application/vnd.google.colaboratory.intrinsic+json": {
              "type": "string"
            },
            "text/plain": [
              "'much%20ado%20about%20nothing'"
            ]
          },
          "metadata": {
            "tags": []
          },
          "execution_count": 10
        }
      ]
    },
    {
      "cell_type": "code",
      "metadata": {
        "id": "gf0d6CrP1o-W",
        "colab_type": "code",
        "colab": {
          "base_uri": "https://localhost:8080/",
          "height": 0
        },
        "outputId": "cc7c6112-77d1-44e1-9554-97b96d0a4fe8"
      },
      "source": [
        "class Test(unittest.TestCase):\n",
        "    '''Test Cases'''\n",
        "    # Using lists because Python strings are immutable\n",
        "    data = [\n",
        "        (list('much ado about nothing      '), 22,\n",
        "         list('much%20ado%20about%20nothing')),\n",
        "        (list('Mr John Smith    '), 13, list('Mr%20John%20Smith'))]\n",
        "\n",
        "    def makeurl(self):\n",
        "        for [test_string, length, expected] in self.data:\n",
        "            actual = urlify(test_string, length)\n",
        "            self.assertEqual(actual, expected)\n",
        "\n",
        "if __name__ == \"__main__\":\n",
        "    unittest.main(argv=['first-arg-is-ignored'], exit=False)"
      ],
      "execution_count": 11,
      "outputs": [
        {
          "output_type": "stream",
          "text": [
            "\n",
            "----------------------------------------------------------------------\n",
            "Ran 0 tests in 0.000s\n",
            "\n",
            "OK\n"
          ],
          "name": "stderr"
        }
      ]
    },
    {
      "cell_type": "markdown",
      "metadata": {
        "id": "W8qukn6I8Yla",
        "colab_type": "text"
      },
      "source": [
        "#Check if a string is a permutation of a palindrome"
      ]
    },
    {
      "cell_type": "code",
      "metadata": {
        "id": "rriNAEEfCncQ",
        "colab_type": "code",
        "colab": {}
      },
      "source": [
        "def preprocess(s):\n",
        "  ps = []\n",
        "  for i in s:\n",
        "    if not i.isspace():\n",
        "      ps.append(i.lower())\n",
        "  return ''.join(ps)"
      ],
      "execution_count": 21,
      "outputs": []
    },
    {
      "cell_type": "code",
      "metadata": {
        "id": "IEeUzEYwC0-O",
        "colab_type": "code",
        "colab": {
          "base_uri": "https://localhost:8080/",
          "height": 0
        },
        "outputId": "e31364b0-10f4-4ee8-901a-55a8d90d8e51"
      },
      "source": [
        "preprocess('An Chow')"
      ],
      "execution_count": 23,
      "outputs": [
        {
          "output_type": "execute_result",
          "data": {
            "application/vnd.google.colaboratory.intrinsic+json": {
              "type": "string"
            },
            "text/plain": [
              "'anchow'"
            ]
          },
          "metadata": {
            "tags": []
          },
          "execution_count": 23
        }
      ]
    },
    {
      "cell_type": "code",
      "metadata": {
        "id": "PfFT3oemUL_k",
        "colab_type": "code",
        "colab": {}
      },
      "source": [
        "def checkpermpal(s):\n",
        "  sdic = {}\n",
        "  \n",
        "  ss = preprocess(s)\n",
        "  \n",
        "  sdic = makedic(ss)\n",
        "  oddcount = 0\n",
        "  \n",
        "  n = len(ss)\n",
        "\n",
        "  if n%2!=0:\n",
        "    odd=True\n",
        "  else:\n",
        "    odd=False\n",
        "\n",
        "  for j in sdic:\n",
        "    \n",
        "    if not odd and sdic[j]%2!=0: # even length but has odd number of a certain char\n",
        "      return False\n",
        "    if odd and sdic[j]%2!=0 and oddcount>=1: # odd length and has more than one odd characters\n",
        "      return False\n",
        "    elif odd and sdic[j]%2!=0 and oddcount==0:\n",
        "      oddcount+=1\n",
        "\n",
        "  return True\n"
      ],
      "execution_count": 46,
      "outputs": []
    },
    {
      "cell_type": "code",
      "metadata": {
        "id": "aCYBL3Ub8v_9",
        "colab_type": "code",
        "colab": {
          "base_uri": "https://localhost:8080/",
          "height": 0
        },
        "outputId": "620ca9cb-e1b8-4217-d9a5-95515da3504e"
      },
      "source": [
        "checkpermpal('So patient a nurse to nurse a patient so')"
      ],
      "execution_count": 47,
      "outputs": [
        {
          "output_type": "execute_result",
          "data": {
            "text/plain": [
              "False"
            ]
          },
          "metadata": {
            "tags": []
          },
          "execution_count": 47
        }
      ]
    },
    {
      "cell_type": "code",
      "metadata": {
        "id": "Owj_eoUiE7Th",
        "colab_type": "code",
        "colab": {
          "base_uri": "https://localhost:8080/",
          "height": 0
        },
        "outputId": "6c2e6d88-4f75-4483-877d-d80f9b5d0869"
      },
      "source": [
        "checkpermpal('no x in nixon')"
      ],
      "execution_count": 51,
      "outputs": [
        {
          "output_type": "execute_result",
          "data": {
            "text/plain": [
              "True"
            ]
          },
          "metadata": {
            "tags": []
          },
          "execution_count": 51
        }
      ]
    },
    {
      "cell_type": "code",
      "metadata": {
        "id": "Y4ITYZOjEokt",
        "colab_type": "code",
        "colab": {}
      },
      "source": [
        ""
      ],
      "execution_count": null,
      "outputs": []
    },
    {
      "cell_type": "markdown",
      "metadata": {
        "id": "SAFmJclD6gui",
        "colab_type": "text"
      },
      "source": [
        "#One Edit Away"
      ]
    },
    {
      "cell_type": "code",
      "metadata": {
        "id": "HDh4HFtS6gGj",
        "colab_type": "code",
        "colab": {}
      },
      "source": [
        "def oneeditaway(a,b):\n",
        "\n",
        "  if len(a)==len(b):\n",
        "    return onereplace(a,b)\n",
        "  \n",
        "  elif len(a)+1==len(b):\n",
        "    return oneinsert(a,b)\n",
        "  \n",
        "  elif len(a)-1==len(b):\n",
        "    return oneinsert(b,a)\n",
        "\n",
        "  else:\n",
        "    return False\n"
      ],
      "execution_count": 44,
      "outputs": []
    },
    {
      "cell_type": "code",
      "metadata": {
        "id": "erGZ6tF6BKn-",
        "colab_type": "code",
        "colab": {}
      },
      "source": [
        "def onereplace(a,b):\n",
        "  c=0\n",
        "  for i in range(len(a)):\n",
        "    if a[i]!=b[i]:\n",
        "      c+=1\n",
        "      if c>1:\n",
        "        return False\n",
        "\n",
        "  return True"
      ],
      "execution_count": 45,
      "outputs": []
    },
    {
      "cell_type": "code",
      "metadata": {
        "id": "rNKc9ISKDKlh",
        "colab_type": "code",
        "colab": {}
      },
      "source": [
        "def oneinsert(a,b):\n",
        "  #print(a)\n",
        "  #print(b)\n",
        "  i,j=0,0\n",
        "\n",
        "  while i<len(a) and j<len(b):\n",
        "    #print('ai =', a[i],'bi = ', b[i],' i =',i,' j=',j)\n",
        "    if a[i]!=b[j]:\n",
        "      if i!=j:\n",
        "        return False\n",
        "      j+=1\n",
        "\n",
        "    else:\n",
        "      i+=1\n",
        "      j+=1\n",
        "  return True\n",
        "    "
      ],
      "execution_count": 49,
      "outputs": []
    },
    {
      "cell_type": "code",
      "metadata": {
        "id": "TjOZIF3SF3hQ",
        "colab_type": "code",
        "colab": {
          "base_uri": "https://localhost:8080/",
          "height": 0
        },
        "outputId": "bc6e3eeb-41ea-4bf6-a1f4-618d6825e529"
      },
      "source": [
        "oneeditaway('barn','arn')"
      ],
      "execution_count": 50,
      "outputs": [
        {
          "output_type": "execute_result",
          "data": {
            "text/plain": [
              "True"
            ]
          },
          "metadata": {
            "tags": []
          },
          "execution_count": 50
        }
      ]
    },
    {
      "cell_type": "code",
      "metadata": {
        "id": "bXDIw_JHF8fR",
        "colab_type": "code",
        "colab": {
          "base_uri": "https://localhost:8080/",
          "height": 0
        },
        "outputId": "7f0d8737-ddf6-48a2-a196-94a4d406e5f7"
      },
      "source": [
        "oneeditaway('pale','ble')"
      ],
      "execution_count": 51,
      "outputs": [
        {
          "output_type": "execute_result",
          "data": {
            "text/plain": [
              "False"
            ]
          },
          "metadata": {
            "tags": []
          },
          "execution_count": 51
        }
      ]
    },
    {
      "cell_type": "code",
      "metadata": {
        "id": "5Y1ja2IsF_HM",
        "colab_type": "code",
        "colab": {
          "base_uri": "https://localhost:8080/",
          "height": 0
        },
        "outputId": "fc32ea0f-1bbf-421a-daaa-748cb565b056"
      },
      "source": [
        "class Test(unittest.TestCase):\n",
        "    '''Test Cases'''\n",
        "    data = [\n",
        "        ('pale', 'ple', True),\n",
        "        ('pales', 'pale', True),\n",
        "        ('pale', 'bale', True),\n",
        "        ('paleabc', 'pleabc', True),\n",
        "        ('pale', 'ble', False),\n",
        "        ('a', 'b', True),\n",
        "        ('', 'd', True),\n",
        "        ('d', 'de', True),\n",
        "        ('pale', 'pale', True),\n",
        "        ('pale', 'ple', True),\n",
        "        ('ple', 'pale', True),\n",
        "        ('pale', 'bale', True),\n",
        "        ('pale', 'bake', False),\n",
        "        ('pale', 'pse', False),\n",
        "        ('ples', 'pales', True),\n",
        "        ('pale', 'pas', False),\n",
        "        ('pas', 'pale', False),\n",
        "        ('pale', 'pkle', True),\n",
        "        ('pkle', 'pable', False),\n",
        "        ('pal', 'palks', False),\n",
        "        ('palks', 'pal', False)\n",
        "    ]\n",
        "\n",
        "    def test_one_away(self):\n",
        "        for [test_s1, test_s2, expected] in self.data:\n",
        "            actual = oneeditaway(test_s1, test_s2)\n",
        "            self.assertEqual(actual, expected)\n",
        "\n",
        "if __name__ == \"__main__\":\n",
        "    unittest.main(argv=['first-arg-is-ignored'], exit=False)"
      ],
      "execution_count": 54,
      "outputs": [
        {
          "output_type": "stream",
          "text": [
            ".\n",
            "----------------------------------------------------------------------\n",
            "Ran 1 test in 0.001s\n",
            "\n",
            "OK\n"
          ],
          "name": "stderr"
        }
      ]
    },
    {
      "cell_type": "markdown",
      "metadata": {
        "id": "jRyp_gUmNttY",
        "colab_type": "text"
      },
      "source": [
        "#Compress String"
      ]
    },
    {
      "cell_type": "code",
      "metadata": {
        "id": "VLyCohl8OYpn",
        "colab_type": "code",
        "colab": {}
      },
      "source": [
        "def compress(s):\n",
        "  if len(s)==len(set(s)):\n",
        "    return s\n",
        "  \n",
        "  else:\n",
        "    temp = ''\n",
        "    c=0\n",
        "    for i in range(len(s)):\n",
        "      c+=1\n",
        "      if i+1==len(s) or s[i]!=s[i+1]:\n",
        "        temp+=''+s[i]+str(c)\n",
        "        c=0    \n",
        "      \n",
        "        \n",
        "  return temp\n"
      ],
      "execution_count": 70,
      "outputs": []
    },
    {
      "cell_type": "code",
      "metadata": {
        "id": "RepoxfJTPkPn",
        "colab_type": "code",
        "colab": {
          "base_uri": "https://localhost:8080/",
          "height": 0
        },
        "outputId": "0a418d86-edff-4824-cbf3-14c04b86ccd1"
      },
      "source": [
        "compress('aabbcca')"
      ],
      "execution_count": 71,
      "outputs": [
        {
          "output_type": "execute_result",
          "data": {
            "application/vnd.google.colaboratory.intrinsic+json": {
              "type": "string"
            },
            "text/plain": [
              "'a2b2c2a1'"
            ]
          },
          "metadata": {
            "tags": []
          },
          "execution_count": 71
        }
      ]
    },
    {
      "cell_type": "code",
      "metadata": {
        "id": "X8OP9nBDPmaK",
        "colab_type": "code",
        "colab": {
          "base_uri": "https://localhost:8080/",
          "height": 0
        },
        "outputId": "c436de93-8c11-42d8-b141-4fca43e46bbf"
      },
      "source": [
        "class Test(unittest.TestCase):\n",
        "    '''Test Cases'''\n",
        "    data = [\n",
        "        ('aabcccccaaa', 'a2b1c5a3'),\n",
        "        ('abcdef', 'abcdef')\n",
        "    ]\n",
        "\n",
        "    def test_string_compression(self):\n",
        "        for [test_string, expected] in self.data:\n",
        "            actual = compress(test_string)\n",
        "            self.assertEqual(actual, expected)\n",
        "\n",
        "if __name__ == \"__main__\":\n",
        "    unittest.main(argv=['first-arg-is-ignored'], exit=False)"
      ],
      "execution_count": 72,
      "outputs": [
        {
          "output_type": "stream",
          "text": [
            ".\n",
            "----------------------------------------------------------------------\n",
            "Ran 1 test in 0.004s\n",
            "\n",
            "OK\n"
          ],
          "name": "stderr"
        }
      ]
    },
    {
      "cell_type": "markdown",
      "metadata": {
        "id": "z6YDodq1V8-Q",
        "colab_type": "text"
      },
      "source": [
        "#Rotate Matrix"
      ]
    },
    {
      "cell_type": "code",
      "metadata": {
        "id": "hvZ_lgpT7Vgr",
        "colab_type": "code",
        "colab": {}
      },
      "source": [
        "def rotate(m):\n",
        "  n = len(m)\n",
        "  \n",
        "  for layer in range(n//2):\n",
        "    first, last = layer, n-layer-1\n",
        "\n",
        "    for i in range(first,last):\n",
        "\n",
        "      #save first\n",
        "      temp = m[layer][i]\n",
        "\n",
        "      #bottom to top (21 to 1)\n",
        "      m[layer][i] = m[-i-1][layer]\n",
        "\n",
        "      #right to left (25 to 21)\n",
        "      m[-i-1][layer] = m[-layer-1][-i-1]\n",
        "\n",
        "      #top to bottom (5 to 25)\n",
        "      m[-layer-1][-i-1] = m[i][- layer - 1]\n",
        "\n",
        "      #save temp\n",
        "      m[i][-layer-1] = temp\n",
        "\n",
        "  return m"
      ],
      "execution_count": 3,
      "outputs": []
    },
    {
      "cell_type": "code",
      "metadata": {
        "id": "Uu5zYlXgccvi",
        "colab_type": "code",
        "colab": {
          "base_uri": "https://localhost:8080/",
          "height": 180
        },
        "outputId": "6e746ea7-71b1-4e75-e8a9-0a494f3d5f13"
      },
      "source": [
        "mat = [[1,2,3,4,5],[6,7,8,9,10],[11,12,13,14,15],[16,17,18,19,20],[21,22,23,24,25]]\n",
        "rotate(mat)"
      ],
      "execution_count": 108,
      "outputs": [
        {
          "output_type": "error",
          "ename": "NameError",
          "evalue": "ignored",
          "traceback": [
            "\u001b[0;31m---------------------------------------------------------------------------\u001b[0m",
            "\u001b[0;31mNameError\u001b[0m                                 Traceback (most recent call last)",
            "\u001b[0;32m<ipython-input-108-b4f0940c75bd>\u001b[0m in \u001b[0;36m<module>\u001b[0;34m()\u001b[0m\n\u001b[1;32m      1\u001b[0m \u001b[0mmat\u001b[0m \u001b[0;34m=\u001b[0m \u001b[0;34m[\u001b[0m\u001b[0;34m[\u001b[0m\u001b[0;36m1\u001b[0m\u001b[0;34m,\u001b[0m\u001b[0;36m2\u001b[0m\u001b[0;34m,\u001b[0m\u001b[0;36m3\u001b[0m\u001b[0;34m,\u001b[0m\u001b[0;36m4\u001b[0m\u001b[0;34m,\u001b[0m\u001b[0;36m5\u001b[0m\u001b[0;34m]\u001b[0m\u001b[0;34m,\u001b[0m\u001b[0;34m[\u001b[0m\u001b[0;36m6\u001b[0m\u001b[0;34m,\u001b[0m\u001b[0;36m7\u001b[0m\u001b[0;34m,\u001b[0m\u001b[0;36m8\u001b[0m\u001b[0;34m,\u001b[0m\u001b[0;36m9\u001b[0m\u001b[0;34m,\u001b[0m\u001b[0;36m10\u001b[0m\u001b[0;34m]\u001b[0m\u001b[0;34m,\u001b[0m\u001b[0;34m[\u001b[0m\u001b[0;36m11\u001b[0m\u001b[0;34m,\u001b[0m\u001b[0;36m12\u001b[0m\u001b[0;34m,\u001b[0m\u001b[0;36m13\u001b[0m\u001b[0;34m,\u001b[0m\u001b[0;36m14\u001b[0m\u001b[0;34m,\u001b[0m\u001b[0;36m15\u001b[0m\u001b[0;34m]\u001b[0m\u001b[0;34m,\u001b[0m\u001b[0;34m[\u001b[0m\u001b[0;36m16\u001b[0m\u001b[0;34m,\u001b[0m\u001b[0;36m17\u001b[0m\u001b[0;34m,\u001b[0m\u001b[0;36m18\u001b[0m\u001b[0;34m,\u001b[0m\u001b[0;36m19\u001b[0m\u001b[0;34m,\u001b[0m\u001b[0;36m20\u001b[0m\u001b[0;34m]\u001b[0m\u001b[0;34m,\u001b[0m\u001b[0;34m[\u001b[0m\u001b[0;36m21\u001b[0m\u001b[0;34m,\u001b[0m\u001b[0;36m22\u001b[0m\u001b[0;34m,\u001b[0m\u001b[0;36m23\u001b[0m\u001b[0;34m,\u001b[0m\u001b[0;36m24\u001b[0m\u001b[0;34m,\u001b[0m\u001b[0;36m25\u001b[0m\u001b[0;34m]\u001b[0m\u001b[0;34m]\u001b[0m\u001b[0;34m\u001b[0m\u001b[0;34m\u001b[0m\u001b[0m\n\u001b[0;32m----> 2\u001b[0;31m \u001b[0mrotate\u001b[0m\u001b[0;34m(\u001b[0m\u001b[0mmat\u001b[0m\u001b[0;34m)\u001b[0m\u001b[0;34m\u001b[0m\u001b[0;34m\u001b[0m\u001b[0m\n\u001b[0m",
            "\u001b[0;31mNameError\u001b[0m: name 'rotate' is not defined"
          ]
        }
      ]
    },
    {
      "cell_type": "code",
      "metadata": {
        "id": "I9_mpJKjcuV1",
        "colab_type": "code",
        "colab": {}
      },
      "source": [
        ""
      ],
      "execution_count": null,
      "outputs": []
    },
    {
      "cell_type": "markdown",
      "metadata": {
        "id": "14jEw2t6154Y",
        "colab_type": "text"
      },
      "source": [
        "#Zero Matrix"
      ]
    },
    {
      "cell_type": "code",
      "metadata": {
        "id": "X2ZmFg1I2A73",
        "colab_type": "code",
        "colab": {}
      },
      "source": [
        "testmat = [\n",
        "            [1, 2, 3, 4, 0],\n",
        "            [6, 0, 8, 9, 10],\n",
        "            [11, 12, 13, 14, 15],\n",
        "            [16, 0, 18, 19, 20],\n",
        "            [21, 22, 23, 24, 25]\n",
        "        ]"
      ],
      "execution_count": 200,
      "outputs": []
    },
    {
      "cell_type": "code",
      "metadata": {
        "id": "QU0zBfJ717Sq",
        "colab_type": "code",
        "colab": {}
      },
      "source": [
        "def zeromatrix(m):\n",
        "  \n",
        "  row = []\n",
        "  col = []\n",
        "\n",
        "  for i in range(len(m)):\n",
        "    for j in range(len(m[0])):\n",
        "      if m[i][j] == 0:\n",
        "        row.append(i)\n",
        "        col.append(j)\n",
        "\n",
        "  #nullify row\n",
        "  for r in set(row):\n",
        "    for x in range(len(m[0])):\n",
        "      m[r][x]=0\n",
        "\n",
        "  #nullify col\n",
        "  for c in set(col):\n",
        "    for y in range(len(m)):\n",
        "      m[y][c]=0\n",
        "\n",
        "  return m\n"
      ],
      "execution_count": 201,
      "outputs": []
    },
    {
      "cell_type": "code",
      "metadata": {
        "id": "HYLzZ5W62hbH",
        "colab_type": "code",
        "colab": {
          "base_uri": "https://localhost:8080/",
          "height": 102
        },
        "outputId": "c9e57636-9163-4ef2-edb8-6ec209dc1e88"
      },
      "source": [
        "zeromatrix(testmat)"
      ],
      "execution_count": 202,
      "outputs": [
        {
          "output_type": "execute_result",
          "data": {
            "text/plain": [
              "[[0, 0, 0, 0, 0],\n",
              " [0, 0, 0, 0, 0],\n",
              " [11, 0, 13, 14, 0],\n",
              " [0, 0, 0, 0, 0],\n",
              " [21, 0, 23, 24, 0]]"
            ]
          },
          "metadata": {
            "tags": []
          },
          "execution_count": 202
        }
      ]
    },
    {
      "cell_type": "code",
      "metadata": {
        "id": "isXcm9Q_8czk",
        "colab_type": "code",
        "colab": {}
      },
      "source": [
        ""
      ],
      "execution_count": 196,
      "outputs": []
    },
    {
      "cell_type": "markdown",
      "metadata": {
        "id": "eqjYQevpO0Yu",
        "colab_type": "text"
      },
      "source": [
        "#String Rotation"
      ]
    },
    {
      "cell_type": "code",
      "metadata": {
        "id": "CjAZNciBO27Y",
        "colab_type": "code",
        "colab": {}
      },
      "source": [
        "def isrotation(s1,s2):\n",
        "  if len(s1)==len(s2):\n",
        "    s1 = s1+s1\n",
        "    if s2 in s1:\n",
        "      return True\n",
        "  return False"
      ],
      "execution_count": 203,
      "outputs": []
    },
    {
      "cell_type": "code",
      "metadata": {
        "id": "VqLQR28uxxyQ",
        "colab_type": "code",
        "colab": {
          "base_uri": "https://localhost:8080/",
          "height": 34
        },
        "outputId": "ca4d77f7-e550-4ddf-ae8b-0b9b4d8ad328"
      },
      "source": [
        "isrotation('waterbottle','erbottlebat')"
      ],
      "execution_count": 205,
      "outputs": [
        {
          "output_type": "execute_result",
          "data": {
            "text/plain": [
              "False"
            ]
          },
          "metadata": {
            "tags": []
          },
          "execution_count": 205
        }
      ]
    },
    {
      "cell_type": "code",
      "metadata": {
        "id": "Hc_hvtvUx2OI",
        "colab_type": "code",
        "colab": {
          "base_uri": "https://localhost:8080/",
          "height": 34
        },
        "outputId": "5a2863a3-a03c-4949-82d8-fb3378c051ea"
      },
      "source": [
        "isrotation('waterbottle','erbottlewat')"
      ],
      "execution_count": 206,
      "outputs": [
        {
          "output_type": "execute_result",
          "data": {
            "text/plain": [
              "True"
            ]
          },
          "metadata": {
            "tags": []
          },
          "execution_count": 206
        }
      ]
    },
    {
      "cell_type": "code",
      "metadata": {
        "id": "hJLRN7t6x59B",
        "colab_type": "code",
        "colab": {
          "base_uri": "https://localhost:8080/",
          "height": 34
        },
        "outputId": "a67172aa-898a-4294-fd74-441cd15301ba"
      },
      "source": [
        "isrotation('foo', 'foofoo')"
      ],
      "execution_count": 207,
      "outputs": [
        {
          "output_type": "execute_result",
          "data": {
            "text/plain": [
              "False"
            ]
          },
          "metadata": {
            "tags": []
          },
          "execution_count": 207
        }
      ]
    },
    {
      "cell_type": "code",
      "metadata": {
        "id": "4psHW0neyBpy",
        "colab_type": "code",
        "colab": {}
      },
      "source": [
        ""
      ],
      "execution_count": null,
      "outputs": []
    }
  ]
}