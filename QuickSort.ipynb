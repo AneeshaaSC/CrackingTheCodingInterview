{
  "nbformat": 4,
  "nbformat_minor": 0,
  "metadata": {
    "colab": {
      "name": "QuickSort.ipynb",
      "provenance": []
    },
    "kernelspec": {
      "name": "python3",
      "display_name": "Python 3"
    }
  },
  "cells": [
    {
      "cell_type": "code",
      "metadata": {
        "id": "06yASIE8rAfx",
        "colab_type": "code",
        "colab": {}
      },
      "source": [
        "def quicksort(seq):\n",
        "\n",
        "  if len(seq)<=1:\n",
        "    return seq\n",
        "\n",
        "  pivot = seq[len(seq)//2]\n",
        "\n",
        "  less = []\n",
        "  equal = []\n",
        "  greater = []\n",
        "\n",
        "  for x in seq:\n",
        "            \n",
        "    if x < pivot:\n",
        "      less.append(x)\n",
        "            \n",
        "    elif x == pivot:\n",
        "      equal.append(x)\n",
        "    \n",
        "    elif x > pivot:\n",
        "      greater.append(x)\n",
        "\n",
        "  return quicksort(less)+equal+quicksort(greater) \n",
        "   "
      ],
      "execution_count": null,
      "outputs": []
    },
    {
      "cell_type": "code",
      "metadata": {
        "id": "ysMM0sU0sN6m",
        "colab_type": "code",
        "colab": {
          "base_uri": "https://localhost:8080/",
          "height": 67
        },
        "outputId": "b5c54766-a25f-473f-b96f-5f3654fe9eb3"
      },
      "source": [
        "n = int(input())\n",
        "seq = [int(i) for i in input().split()]\n",
        "sortseq = quicksort(seq)\n",
        "for x in sortseq:\n",
        "    print(x, end=' ')"
      ],
      "execution_count": null,
      "outputs": [
        {
          "output_type": "stream",
          "text": [
            "5\n",
            "2 3 9 2 2\n",
            "2 2 2 3 9 "
          ],
          "name": "stdout"
        }
      ]
    },
    {
      "cell_type": "code",
      "metadata": {
        "id": "e26I--A0si9i",
        "colab_type": "code",
        "colab": {}
      },
      "source": [
        ""
      ],
      "execution_count": null,
      "outputs": []
    }
  ]
}